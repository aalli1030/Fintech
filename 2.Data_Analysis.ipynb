{
 "cells": [
  {
   "cell_type": "markdown",
   "metadata": {},
   "source": [
    "# Data Analysis"
   ]
  },
  {
   "cell_type": "code",
   "execution_count": 152,
   "metadata": {},
   "outputs": [],
   "source": [
    "import pandas as pd\n",
    "import numpy as np\n",
    "import matplotlib.pyplot as plt\n",
    "%matplotlib inline\n",
    "import seaborn as sns\n",
    "import warnings\n",
    "warnings.filterwarnings('ignore')"
   ]
  },
  {
   "cell_type": "markdown",
   "metadata": {},
   "source": [
    "## Loan_2017 data"
   ]
  },
  {
   "cell_type": "code",
   "execution_count": 2,
   "metadata": {},
   "outputs": [],
   "source": [
    "df = pd.read_csv('/Users/yizh/Downloads/loan_2017.csv') "
   ]
  },
  {
   "cell_type": "code",
   "execution_count": 3,
   "metadata": {},
   "outputs": [
    {
     "name": "stdout",
     "output_type": "stream",
     "text": [
      "<class 'pandas.core.frame.DataFrame'>\n",
      "RangeIndex: 443579 entries, 0 to 443578\n",
      "Columns: 108 entries, mthssincerecentbc to loanstatus\n",
      "dtypes: float64(88), int64(1), object(19)\n",
      "memory usage: 365.5+ MB\n"
     ]
    }
   ],
   "source": [
    "df.info()"
   ]
  },
  {
   "cell_type": "code",
   "execution_count": 7,
   "metadata": {},
   "outputs": [
    {
     "data": {
      "text/plain": [
       "(443579, 108)"
      ]
     },
     "execution_count": 7,
     "metadata": {},
     "output_type": "execute_result"
    }
   ],
   "source": [
    "df.shape"
   ]
  },
  {
   "cell_type": "markdown",
   "metadata": {},
   "source": [
    "## Find categorical and numerical data"
   ]
  },
  {
   "cell_type": "code",
   "execution_count": 9,
   "metadata": {
    "scrolled": true
   },
   "outputs": [
    {
     "data": {
      "text/plain": [
       "mthssincerecentbc                 5433\n",
       "term                                 0\n",
       "memberid                        443579\n",
       "tothicredlim                         0\n",
       "numacctsever120pd                    0\n",
       "totalrevhilim                        0\n",
       "mthssincercntil                  13126\n",
       "accopenpast24mths                    0\n",
       "secapprevolutil                 405183\n",
       "mortacc                              0\n",
       "secappopenactil                 404543\n",
       "bcutil                            5948\n",
       "totalacc                             0\n",
       "purpose                              0\n",
       "totalbclimit                         0\n",
       "numactvbctl                          0\n",
       "annualincjoint                  401154\n",
       "totalbalil                           0\n",
       "mthssincelastdelinq             222680\n",
       "delinq2yrs                           0\n",
       "numtl120dpd2m                    22254\n",
       "title                                0\n",
       "ficorangelow                         0\n",
       "inqlast6mths                         0\n",
       "numrevaccts                          0\n",
       "secappcollections12mthsexmed    404543\n",
       "secappmortacc                   404543\n",
       "mosinoldrevtlop                      0\n",
       "secappficorangelow              404543\n",
       "numrevtlbalgt0                       0\n",
       "                                 ...  \n",
       "collections12mthsexmed               0\n",
       "emptitle                         32344\n",
       "emplength                        31871\n",
       "dti                                514\n",
       "earliestcrline                       0\n",
       "ficorangehigh                        0\n",
       "totalbalexmort                       0\n",
       "openrv12m                            0\n",
       "inqlast12m                           0\n",
       "zipcode                              1\n",
       "dtijoint                        401154\n",
       "secappopenacc                   404543\n",
       "openrv24m                            0\n",
       "openil24m                            0\n",
       "accnowdelinq                         0\n",
       "mthssincelastrecord             367384\n",
       "delinqamnt                           0\n",
       "mthssincerecentinq               51953\n",
       "numtl90gdpd24m                       0\n",
       "numtl30dpd                           0\n",
       "mosinrcnttl                          0\n",
       "numtloppast12m                       0\n",
       "homeownership                        0\n",
       "numactvrevtl                         0\n",
       "desc                            443579\n",
       "initialliststatus                    0\n",
       "openacc                              0\n",
       "chargeoffwithin12mths                0\n",
       "issued                               0\n",
       "loanstatus                           0\n",
       "Length: 108, dtype: int64"
      ]
     },
     "execution_count": 9,
     "metadata": {},
     "output_type": "execute_result"
    }
   ],
   "source": [
    "df.isnull().sum()"
   ]
  },
  {
   "cell_type": "code",
   "execution_count": 3,
   "metadata": {},
   "outputs": [],
   "source": [
    "cat_data=df.select_dtypes(include='object').columns.values.tolist()"
   ]
  },
  {
   "cell_type": "code",
   "execution_count": 4,
   "metadata": {},
   "outputs": [],
   "source": [
    "num_data=df.drop(cat_data, axis=1).columns.values.tolist()"
   ]
  },
  {
   "cell_type": "code",
   "execution_count": 47,
   "metadata": {},
   "outputs": [],
   "source": [
    "nul_data=[]\n",
    "for n in df.columns:\n",
    "    if df[n].isnull().sum()==df.shape[0]:\n",
    "        nul_data.append(n)"
   ]
  },
  {
   "cell_type": "code",
   "execution_count": 48,
   "metadata": {},
   "outputs": [
    {
     "data": {
      "text/plain": [
       "['memberid', 'desc']"
      ]
     },
     "execution_count": 48,
     "metadata": {},
     "output_type": "execute_result"
    }
   ],
   "source": [
    "nul_data"
   ]
  },
  {
   "cell_type": "code",
   "execution_count": 56,
   "metadata": {
    "scrolled": true
   },
   "outputs": [],
   "source": [
    "#remove null data\n",
    "num_data.remove('memberid')\n",
    "num_data.remove('desc')\n",
    "num_data.remove('dtijoint')                       \n",
    "num_data.remove('secappopenacc') \n",
    "num_data.remove('secapprevolutil')\n",
    "num_data.remove('secappopenactil')\n",
    "num_data.remove('annualincjoint')\n",
    "num_data.remove('secappcollections12mthsexmed')\n",
    "num_data.remove('secappmortacc')\n",
    "num_data.remove('secappficorangelow')"
   ]
  },
  {
   "cell_type": "code",
   "execution_count": 6,
   "metadata": {
    "scrolled": true
   },
   "outputs": [],
   "source": [
    "cat_data.remove('url')\n",
    "cat_data.remove('loanstatus')"
   ]
  },
  {
   "cell_type": "code",
   "execution_count": 66,
   "metadata": {},
   "outputs": [
    {
     "name": "stdout",
     "output_type": "stream",
     "text": [
      "0\n",
      " 36 months    320419\n",
      " 60 months    123160\n",
      "Name: term, dtype: int64\n",
      "0\n",
      "debt_consolidation    245083\n",
      "credit_card            91466\n",
      "home_improvement       34693\n",
      "other                  33057\n",
      "major_purchase         11140\n",
      "medical                 6885\n",
      "car                     5357\n",
      "small_business          4938\n",
      "vacation                4026\n",
      "moving                  3644\n",
      "house                   2997\n",
      "renewable_energy         291\n",
      "educational                1\n",
      "wedding                    1\n",
      "Name: purpose, dtype: int64\n",
      "0\n",
      "Debt consolidation         245081\n",
      "Credit card refinancing     91473\n",
      "Home improvement            34692\n",
      "Other                       33054\n",
      "Major purchase              11136\n",
      "Medical expenses             6884\n",
      "Car financing                5361\n",
      "Business                     4941\n",
      "Vacation                     4026\n",
      "Moving and relocation        3643\n",
      "Home buying                  2997\n",
      "Green loan                    290\n",
      "Learning and training           1\n",
      "Name: title, dtype: int64\n",
      "0\n",
      " 16.02%    20504\n",
      " 11.99%    19739\n",
      " 12.62%    19659\n",
      " 10.42%    19229\n",
      "  9.44%    18916\n",
      " 15.05%    18779\n",
      " 14.08%    18668\n",
      "  9.93%    18200\n",
      " 13.59%    17843\n",
      "  5.32%    16266\n",
      " 10.91%    15430\n",
      "  7.97%    14471\n",
      " 12.74%    12867\n",
      " 11.49%    11463\n",
      "  7.35%    11083\n",
      " 14.99%     9463\n",
      " 18.06%     9352\n",
      " 15.99%     9282\n",
      " 13.49%     9230\n",
      " 19.03%     9107\n",
      "  8.24%     8934\n",
      " 13.99%     8762\n",
      " 11.44%     7943\n",
      "  7.21%     7766\n",
      " 17.09%     7391\n",
      "  7.07%     7124\n",
      " 11.39%     6875\n",
      " 21.45%     6797\n",
      " 16.99%     6617\n",
      " 20.00%     6480\n",
      "           ...  \n",
      "  7.24%     3446\n",
      "  6.72%     3232\n",
      " 23.88%     2866\n",
      " 24.85%     2716\n",
      "  6.08%     2670\n",
      " 22.74%     2523\n",
      " 19.99%     2134\n",
      " 25.82%     2115\n",
      " 23.99%     1835\n",
      " 22.91%     1314\n",
      " 25.49%     1286\n",
      " 28.69%     1086\n",
      " 26.24%     1081\n",
      " 30.79%      971\n",
      " 24.74%      808\n",
      " 30.17%      800\n",
      " 30.75%      745\n",
      " 28.72%      731\n",
      " 30.65%      668\n",
      " 30.99%      659\n",
      " 30.94%      657\n",
      " 29.69%      639\n",
      " 30.89%      588\n",
      " 30.84%      580\n",
      " 21.49%      554\n",
      " 29.49%      505\n",
      " 29.99%      431\n",
      " 30.49%      338\n",
      " 30.74%      293\n",
      "  6.00%      220\n",
      "Name: intrate, Length: 67, dtype: int64\n",
      "404543\n",
      "Aug-2006    357\n",
      "Sep-2006    341\n",
      "Sep-2005    335\n",
      "Aug-2004    328\n",
      "Aug-2005    322\n",
      "Oct-2005    307\n",
      "Sep-2004    306\n",
      "Oct-2004    294\n",
      "Sep-2003    292\n",
      "Oct-2003    285\n",
      "Aug-2007    282\n",
      "Nov-2005    278\n",
      "Mar-2006    276\n",
      "Jun-2005    275\n",
      "Jun-2006    274\n",
      "Jul-2004    272\n",
      "Nov-2006    267\n",
      "Jul-2006    265\n",
      "Dec-2004    264\n",
      "Nov-2004    262\n",
      "May-2006    260\n",
      "Dec-2005    259\n",
      "Aug-2002    258\n",
      "Aug-2003    257\n",
      "Oct-2006    256\n",
      "Mar-2005    256\n",
      "Mar-2004    254\n",
      "Jul-2005    249\n",
      "Apr-2006    245\n",
      "May-2007    242\n",
      "           ... \n",
      "Nov-1966      1\n",
      "Nov-1967      1\n",
      "Aug-1966      1\n",
      "May-1979      1\n",
      "Sep-1969      1\n",
      "Oct-1969      1\n",
      "Mar-1964      1\n",
      "Jan-1959      1\n",
      "Jul-1963      1\n",
      "Dec-1972      1\n",
      "Nov-1962      1\n",
      "Mar-1974      1\n",
      "Mar-1965      1\n",
      "Jan-1967      1\n",
      "Oct-1965      1\n",
      "Sep-1963      1\n",
      "Oct-1966      1\n",
      "Sep-1967      1\n",
      "Jan-1951      1\n",
      "Feb-1969      1\n",
      "Apr-1966      1\n",
      "Jul-1958      1\n",
      "Aug-1968      1\n",
      "Feb-1974      1\n",
      "Apr-1972      1\n",
      "Mar-1967      1\n",
      "Mar-1972      1\n",
      "Sep-1971      1\n",
      "Jan-1972      1\n",
      "Nov-1965      1\n",
      "Name: secappearliestcrline, Length: 599, dtype: int64\n",
      "0\n",
      "Individual    401154\n",
      "Joint App      42425\n",
      "Name: applicationtype, dtype: int64\n",
      "0\n",
      "CA    59851\n",
      "TX    37259\n",
      "NY    37200\n",
      "FL    31936\n",
      "IL    18307\n",
      "NJ    16175\n",
      "PA    15045\n",
      "OH    14464\n",
      "GA    14253\n",
      "NC    12096\n",
      "VA    12050\n",
      "MI    11585\n",
      "MD    10849\n",
      "AZ    10754\n",
      "MA    10173\n",
      "CO     9466\n",
      "WA     9044\n",
      "MN     7770\n",
      "IN     7689\n",
      "CT     7505\n",
      "TN     7131\n",
      "MO     7066\n",
      "NV     6433\n",
      "WI     5951\n",
      "SC     5450\n",
      "OR     5193\n",
      "AL     5147\n",
      "LA     4991\n",
      "KY     4311\n",
      "OK     3947\n",
      "KS     3681\n",
      "AR     3289\n",
      "MS     2860\n",
      "UT     2772\n",
      "NH     2281\n",
      "NM     2214\n",
      "NE     2132\n",
      "HI     1998\n",
      "RI     1965\n",
      "ME     1438\n",
      "ID     1325\n",
      "DE     1246\n",
      "MT     1223\n",
      "VT     1042\n",
      "ND     1011\n",
      "DC      982\n",
      "AK      970\n",
      "SD      867\n",
      "WY      823\n",
      "WV      369\n",
      "Name: addrstate, dtype: int64\n",
      "444\n",
      "0%        2759\n",
      "60%        902\n",
      "42%        882\n",
      "54%        879\n",
      "57%        876\n",
      "56%        876\n",
      "53%        876\n",
      "45%        874\n",
      "59%        867\n",
      "64%        866\n",
      "51%        866\n",
      "46%        865\n",
      "48%        857\n",
      "49%        854\n",
      "52%        854\n",
      "50%        852\n",
      "43%        851\n",
      "39%        850\n",
      "55%        846\n",
      "44%        837\n",
      "58%        834\n",
      "38%        829\n",
      "61%        820\n",
      "62%        819\n",
      "63%        816\n",
      "47%        811\n",
      "41%        807\n",
      "37%        805\n",
      "68%        804\n",
      "32%        803\n",
      "          ... \n",
      "111%         1\n",
      "109.2%       1\n",
      "154.9%       1\n",
      "109.8%       1\n",
      "123.4%       1\n",
      "115.6%       1\n",
      "114.4%       1\n",
      "137.3%       1\n",
      "118.5%       1\n",
      "114.6%       1\n",
      "115%         1\n",
      "119.5%       1\n",
      "108.5%       1\n",
      "105.5%       1\n",
      "107.8%       1\n",
      "108.4%       1\n",
      "115.9%       1\n",
      "107.5%       1\n",
      "113%         1\n",
      "112%         1\n",
      "105.6%       1\n",
      "105.2%       1\n",
      "173.2%       1\n",
      "108.8%       1\n",
      "120.9%       1\n",
      "128.7%       1\n",
      "106.1%       1\n",
      "110.3%       1\n",
      "112.2%       1\n",
      "128.9%       1\n",
      "Name: revolutil, Length: 1156, dtype: int64\n",
      "0\n",
      "C1    32542\n",
      "B5    31216\n",
      "C5    29806\n",
      "C4    28256\n",
      "B1    27863\n",
      "C3    27454\n",
      "C2    27086\n",
      "B3    26113\n",
      "B2    24552\n",
      "B4    23383\n",
      "A5    19661\n",
      "A1    16266\n",
      "A4    14964\n",
      "A3    14447\n",
      "D1    14015\n",
      "A2    13458\n",
      "D3    13347\n",
      "D2    13304\n",
      "D4     8623\n",
      "D5     7357\n",
      "E2     4705\n",
      "E5     4694\n",
      "E1     3837\n",
      "E3     3527\n",
      "E4     3404\n",
      "F1     1818\n",
      "F3     1231\n",
      "F2     1147\n",
      "F5     1039\n",
      "F4     1007\n",
      "G1      972\n",
      "G5      659\n",
      "G4      657\n",
      "G3      589\n",
      "G2      580\n",
      "Name: subgrade, dtype: int64\n",
      "0\n",
      "C    145144\n",
      "B    133127\n",
      "A     78796\n",
      "D     56646\n",
      "E     20167\n",
      "F      6242\n",
      "G      3457\n",
      "Name: grade, dtype: int64\n",
      "32344\n",
      "Teacher                                   8425\n",
      "Manager                                   7647\n",
      "Owner                                     6113\n",
      "Driver                                    3616\n",
      "Registered Nurse                          3328\n",
      "RN                                        3118\n",
      "Supervisor                                3030\n",
      "Sales                                     3023\n",
      "Project Manager                           2310\n",
      "Director                                  2028\n",
      "Office Manager                            2023\n",
      "owner                                     1990\n",
      "General Manager                           1978\n",
      "President                                 1708\n",
      "Engineer                                  1517\n",
      "Operations Manager                        1328\n",
      "Nurse                                     1291\n",
      "manager                                   1275\n",
      "teacher                                   1246\n",
      "Sales Manager                             1206\n",
      "Vice President                            1182\n",
      "Accountant                                1140\n",
      "Attorney                                  1129\n",
      "Truck Driver                              1080\n",
      "Supervisor                                1061\n",
      "Administrative Assistant                  1060\n",
      "Technician                                1030\n",
      "Account Manager                            988\n",
      "Server                                     943\n",
      "driver                                     929\n",
      "                                          ... \n",
      "Senior Machinist                             1\n",
      "Fine dining server                           1\n",
      "State Treasury Fiscal Control Analyst        1\n",
      "Plumber & pipefitter                         1\n",
      "FIRST SERGEANT                               1\n",
      "IT/Purchasing Manager                        1\n",
      "ROOFER                                       1\n",
      "tradesworker                                 1\n",
      "Calibration Manager                          1\n",
      "Export Operator                              1\n",
      "Health Initiatives Manager                   1\n",
      "Fleet Logistics Supervisor                   1\n",
      "Book Production Specialist                   1\n",
      "Lead Medical Biller                          1\n",
      "Sale admin                                   1\n",
      "Credentialing Specialist                     1\n",
      "SR. SUPERVISOR                               1\n",
      "Land Development Plans Examiner 1            1\n",
      "English Instructor                           1\n",
      "Sr. Designer                                 1\n",
      "Aesthetician Laser Tech                      1\n",
      "Qualified agent/ sales                       1\n",
      "Virginia State Police Safety Inspector       1\n",
      "Prep manager                                 1\n",
      "plumber/steamfitter                          1\n",
      "Program Manager, Inspection Service          1\n",
      "Associate Design Director                    1\n",
      "Operations Manager/Dental Hygienist          1\n",
      "Piping General Foreman                       1\n",
      "Tables games supv                            1\n",
      "Name: emptitle, Length: 120656, dtype: int64\n",
      "31871\n",
      "10+ years    146057\n",
      "< 1 year      43835\n",
      "2 years       40456\n",
      "3 years       35362\n",
      "1 year        28985\n",
      "4 years       26993\n",
      "5 years       26660\n",
      "6 years       19043\n",
      "7 years       15932\n",
      "9 years       15229\n",
      "8 years       13156\n",
      "Name: emplength, dtype: int64\n",
      "0\n",
      "Sep-2005    3561\n",
      "Aug-2006    3454\n",
      "Sep-2004    3426\n",
      "Aug-2005    3399\n",
      "Aug-2004    3306\n",
      "Sep-2003    3099\n",
      "Aug-2003    3030\n",
      "Oct-2004    3002\n",
      "Oct-2003    2991\n",
      "Sep-2006    2898\n",
      "Oct-2005    2879\n",
      "Jun-2005    2854\n",
      "Nov-2004    2829\n",
      "Jul-2004    2805\n",
      "Jul-2003    2782\n",
      "Aug-2002    2721\n",
      "Nov-2005    2686\n",
      "Jul-2005    2683\n",
      "Aug-2007    2653\n",
      "Sep-2002    2640\n",
      "Jun-2006    2626\n",
      "Mar-2006    2621\n",
      "Jul-2006    2616\n",
      "May-2005    2596\n",
      "Mar-2005    2586\n",
      "Oct-2002    2575\n",
      "May-2006    2553\n",
      "Mar-2004    2542\n",
      "Dec-2004    2539\n",
      "Oct-2006    2537\n",
      "            ... \n",
      "Mar-1959       1\n",
      "Aug-1953       1\n",
      "Sep-1953       1\n",
      "Nov-1963       1\n",
      "Dec-1958       1\n",
      "Feb-1961       1\n",
      "Jun-1952       1\n",
      "Jan-1952       1\n",
      "Aug-1957       1\n",
      "Sep-1961       1\n",
      "May-1957       1\n",
      "Oct-1958       1\n",
      "May-1960       1\n",
      "Nov-1956       1\n",
      "Feb-1958       1\n",
      "Jul-1963       1\n",
      "Mar-1960       1\n",
      "Aug-1962       1\n",
      "Jun-1961       1\n",
      "Aug-1958       1\n",
      "Oct-1960       1\n",
      "Feb-1963       1\n",
      "Aug-1960       1\n",
      "Jul-1962       1\n",
      "Oct-1962       1\n",
      "Feb-1934       1\n",
      "Jul-1958       1\n",
      "Jun-1956       1\n",
      "Sep-1951       1\n",
      "Nov-1952       1\n",
      "Name: earliestcrline, Length: 683, dtype: int64\n",
      "1\n"
     ]
    },
    {
     "name": "stdout",
     "output_type": "stream",
     "text": [
      "112xx    4856\n",
      "750xx    4683\n",
      "945xx    4613\n",
      "606xx    4038\n",
      "300xx    4001\n",
      "331xx    3616\n",
      "770xx    3562\n",
      "070xx    3544\n",
      "891xx    3395\n",
      "117xx    3385\n",
      "104xx    3384\n",
      "330xx    3310\n",
      "100xx    3168\n",
      "900xx    3021\n",
      "917xx    2960\n",
      "852xx    2848\n",
      "925xx    2671\n",
      "604xx    2557\n",
      "334xx    2538\n",
      "601xx    2494\n",
      "853xx    2454\n",
      "913xx    2413\n",
      "926xx    2353\n",
      "600xx    2341\n",
      "481xx    2309\n",
      "921xx    2294\n",
      "760xx    2235\n",
      "080xx    2212\n",
      "113xx    2202\n",
      "207xx    2162\n",
      "         ... \n",
      "966xx       2\n",
      "821xx       2\n",
      "008xx       2\n",
      "942xx       2\n",
      "987xx       2\n",
      "092xx       2\n",
      "909xx       2\n",
      "663xx       1\n",
      "523xx       1\n",
      "896xx       1\n",
      "854xx       1\n",
      "858xx       1\n",
      "885xx       1\n",
      "528xx       1\n",
      "205xx       1\n",
      "696xx       1\n",
      "348xx       1\n",
      "698xx       1\n",
      "969xx       1\n",
      "964xx       1\n",
      "709xx       1\n",
      "621xx       1\n",
      "901xx       1\n",
      "929xx       1\n",
      "861xx       1\n",
      "204xx       1\n",
      "506xx       1\n",
      "009xx       1\n",
      "093xx       1\n",
      "694xx       1\n",
      "Name: zipcode, Length: 905, dtype: int64\n",
      "0\n",
      "MORTGAGE    217123\n",
      "RENT        173643\n",
      "OWN          52414\n",
      "ANY            395\n",
      "NONE             4\n",
      "Name: homeownership, dtype: int64\n",
      "0\n",
      "w    344010\n",
      "f     99569\n",
      "Name: initialliststatus, dtype: int64\n",
      "0\n",
      "Aug-2017    43573\n",
      "Nov-2017    42343\n",
      "Sep-2017    39713\n",
      "Jul-2017    39415\n",
      "Dec-2017    38154\n",
      "Oct-2017    38151\n",
      "Jun-2017    38087\n",
      "May-2017    37681\n",
      "Mar-2017    37181\n",
      "Jan-2017    31835\n",
      "Apr-2017    29683\n",
      "Feb-2017    27763\n",
      "Name: issued, dtype: int64\n"
     ]
    }
   ],
   "source": [
    "df_cat=df[cat_data]\n",
    "\n",
    "for col in df_cat:\n",
    "    print(df_cat[col].isnull().sum())\n",
    "    print(df_cat[col].value_counts())"
   ]
  },
  {
   "cell_type": "code",
   "execution_count": 7,
   "metadata": {
    "scrolled": false
   },
   "outputs": [
    {
     "data": {
      "text/html": [
       "<div>\n",
       "<style scoped>\n",
       "    .dataframe tbody tr th:only-of-type {\n",
       "        vertical-align: middle;\n",
       "    }\n",
       "\n",
       "    .dataframe tbody tr th {\n",
       "        vertical-align: top;\n",
       "    }\n",
       "\n",
       "    .dataframe thead th {\n",
       "        text-align: right;\n",
       "    }\n",
       "</style>\n",
       "<table border=\"1\" class=\"dataframe\">\n",
       "  <thead>\n",
       "    <tr style=\"text-align: right;\">\n",
       "      <th></th>\n",
       "      <th>fundedamnt</th>\n",
       "      <th>loanamnt</th>\n",
       "    </tr>\n",
       "  </thead>\n",
       "  <tbody>\n",
       "    <tr>\n",
       "      <th>0</th>\n",
       "      <td>7100.0</td>\n",
       "      <td>7100.0</td>\n",
       "    </tr>\n",
       "    <tr>\n",
       "      <th>1</th>\n",
       "      <td>6800.0</td>\n",
       "      <td>6800.0</td>\n",
       "    </tr>\n",
       "    <tr>\n",
       "      <th>2</th>\n",
       "      <td>9900.0</td>\n",
       "      <td>9900.0</td>\n",
       "    </tr>\n",
       "    <tr>\n",
       "      <th>3</th>\n",
       "      <td>14000.0</td>\n",
       "      <td>14000.0</td>\n",
       "    </tr>\n",
       "    <tr>\n",
       "      <th>4</th>\n",
       "      <td>15400.0</td>\n",
       "      <td>15400.0</td>\n",
       "    </tr>\n",
       "    <tr>\n",
       "      <th>5</th>\n",
       "      <td>10000.0</td>\n",
       "      <td>10000.0</td>\n",
       "    </tr>\n",
       "    <tr>\n",
       "      <th>6</th>\n",
       "      <td>10000.0</td>\n",
       "      <td>10000.0</td>\n",
       "    </tr>\n",
       "    <tr>\n",
       "      <th>7</th>\n",
       "      <td>3025.0</td>\n",
       "      <td>3025.0</td>\n",
       "    </tr>\n",
       "    <tr>\n",
       "      <th>8</th>\n",
       "      <td>9000.0</td>\n",
       "      <td>9000.0</td>\n",
       "    </tr>\n",
       "    <tr>\n",
       "      <th>9</th>\n",
       "      <td>12000.0</td>\n",
       "      <td>12000.0</td>\n",
       "    </tr>\n",
       "  </tbody>\n",
       "</table>\n",
       "</div>"
      ],
      "text/plain": [
       "   fundedamnt  loanamnt\n",
       "0      7100.0    7100.0\n",
       "1      6800.0    6800.0\n",
       "2      9900.0    9900.0\n",
       "3     14000.0   14000.0\n",
       "4     15400.0   15400.0\n",
       "5     10000.0   10000.0\n",
       "6     10000.0   10000.0\n",
       "7      3025.0    3025.0\n",
       "8      9000.0    9000.0\n",
       "9     12000.0   12000.0"
      ]
     },
     "execution_count": 7,
     "metadata": {},
     "output_type": "execute_result"
    },
    {
     "data": {
      "image/png": "[encoded data removed]",
      "text/plain": [
       "<Figure size 432x288 with 1 Axes>"
      ]
     },
     "metadata": {
      "needs_background": "light"
     },
     "output_type": "display_data"
    }
   ],
   "source": [
    "df.ratio=df.fundedamnt/df.loanamnt.astype(float,3)\n",
    "df.ratio.hist(bins=100)\n",
    "df[['fundedamnt','loanamnt']][:10]"
   ]
  },
  {
   "cell_type": "code",
   "execution_count": 68,
   "metadata": {},
   "outputs": [
    {
     "data": {
      "text/plain": [
       "<matplotlib.axes._subplots.AxesSubplot at 0x1a25a0ee48>"
      ]
     },
     "execution_count": 68,
     "metadata": {},
     "output_type": "execute_result"
    },
    {
     "data": {
      "image/png": "[encoded data removed]",
      "text/plain": [
       "<Figure size 432x288 with 1 Axes>"
      ]
     },
     "metadata": {
      "needs_background": "light"
     },
     "output_type": "display_data"
    }
   ],
   "source": [
    "df.installment.hist(bins=50)"
   ]
  },
  {
   "cell_type": "code",
   "execution_count": 8,
   "metadata": {},
   "outputs": [],
   "source": [
    "# take 36 months term loan\n",
    "df_36=df[df[\"term\"]==' 36 months']"
   ]
  },
  {
   "cell_type": "code",
   "execution_count": 71,
   "metadata": {},
   "outputs": [
    {
     "data": {
      "text/html": [
       "<div>\n",
       "<style scoped>\n",
       "    .dataframe tbody tr th:only-of-type {\n",
       "        vertical-align: middle;\n",
       "    }\n",
       "\n",
       "    .dataframe tbody tr th {\n",
       "        vertical-align: top;\n",
       "    }\n",
       "\n",
       "    .dataframe thead th {\n",
       "        text-align: right;\n",
       "    }\n",
       "</style>\n",
       "<table border=\"1\" class=\"dataframe\">\n",
       "  <thead>\n",
       "    <tr style=\"text-align: right;\">\n",
       "      <th></th>\n",
       "      <th>mthssincerecentbc</th>\n",
       "      <th>term</th>\n",
       "      <th>memberid</th>\n",
       "      <th>tothicredlim</th>\n",
       "      <th>numacctsever120pd</th>\n",
       "      <th>totalrevhilim</th>\n",
       "      <th>mthssincercntil</th>\n",
       "      <th>accopenpast24mths</th>\n",
       "      <th>secapprevolutil</th>\n",
       "      <th>mortacc</th>\n",
       "      <th>...</th>\n",
       "      <th>mosinrcnttl</th>\n",
       "      <th>numtloppast12m</th>\n",
       "      <th>homeownership</th>\n",
       "      <th>numactvrevtl</th>\n",
       "      <th>desc</th>\n",
       "      <th>initialliststatus</th>\n",
       "      <th>openacc</th>\n",
       "      <th>chargeoffwithin12mths</th>\n",
       "      <th>issued</th>\n",
       "      <th>loanstatus</th>\n",
       "    </tr>\n",
       "  </thead>\n",
       "  <tbody>\n",
       "    <tr>\n",
       "      <th>0</th>\n",
       "      <td>162.0</td>\n",
       "      <td>36 months</td>\n",
       "      <td>NaN</td>\n",
       "      <td>45619.0</td>\n",
       "      <td>0.0</td>\n",
       "      <td>31700.0</td>\n",
       "      <td>21.0</td>\n",
       "      <td>3.0</td>\n",
       "      <td>NaN</td>\n",
       "      <td>0.0</td>\n",
       "      <td>...</td>\n",
       "      <td>13.0</td>\n",
       "      <td>0.0</td>\n",
       "      <td>RENT</td>\n",
       "      <td>5.0</td>\n",
       "      <td>NaN</td>\n",
       "      <td>w</td>\n",
       "      <td>9.0</td>\n",
       "      <td>0.0</td>\n",
       "      <td>Mar-2017</td>\n",
       "      <td>Fully Paid</td>\n",
       "    </tr>\n",
       "    <tr>\n",
       "      <th>1</th>\n",
       "      <td>20.0</td>\n",
       "      <td>36 months</td>\n",
       "      <td>NaN</td>\n",
       "      <td>55700.0</td>\n",
       "      <td>0.0</td>\n",
       "      <td>23100.0</td>\n",
       "      <td>3.0</td>\n",
       "      <td>7.0</td>\n",
       "      <td>NaN</td>\n",
       "      <td>0.0</td>\n",
       "      <td>...</td>\n",
       "      <td>0.0</td>\n",
       "      <td>4.0</td>\n",
       "      <td>RENT</td>\n",
       "      <td>4.0</td>\n",
       "      <td>NaN</td>\n",
       "      <td>w</td>\n",
       "      <td>9.0</td>\n",
       "      <td>0.0</td>\n",
       "      <td>Mar-2017</td>\n",
       "      <td>Current</td>\n",
       "    </tr>\n",
       "    <tr>\n",
       "      <th>2</th>\n",
       "      <td>36.0</td>\n",
       "      <td>36 months</td>\n",
       "      <td>NaN</td>\n",
       "      <td>184966.0</td>\n",
       "      <td>0.0</td>\n",
       "      <td>19100.0</td>\n",
       "      <td>22.0</td>\n",
       "      <td>1.0</td>\n",
       "      <td>NaN</td>\n",
       "      <td>1.0</td>\n",
       "      <td>...</td>\n",
       "      <td>22.0</td>\n",
       "      <td>0.0</td>\n",
       "      <td>MORTGAGE</td>\n",
       "      <td>3.0</td>\n",
       "      <td>NaN</td>\n",
       "      <td>f</td>\n",
       "      <td>10.0</td>\n",
       "      <td>0.0</td>\n",
       "      <td>Mar-2017</td>\n",
       "      <td>Fully Paid</td>\n",
       "    </tr>\n",
       "    <tr>\n",
       "      <th>5</th>\n",
       "      <td>24.0</td>\n",
       "      <td>36 months</td>\n",
       "      <td>NaN</td>\n",
       "      <td>88045.0</td>\n",
       "      <td>0.0</td>\n",
       "      <td>15800.0</td>\n",
       "      <td>16.0</td>\n",
       "      <td>2.0</td>\n",
       "      <td>NaN</td>\n",
       "      <td>0.0</td>\n",
       "      <td>...</td>\n",
       "      <td>16.0</td>\n",
       "      <td>0.0</td>\n",
       "      <td>RENT</td>\n",
       "      <td>1.0</td>\n",
       "      <td>NaN</td>\n",
       "      <td>f</td>\n",
       "      <td>12.0</td>\n",
       "      <td>0.0</td>\n",
       "      <td>Mar-2017</td>\n",
       "      <td>Fully Paid</td>\n",
       "    </tr>\n",
       "    <tr>\n",
       "      <th>6</th>\n",
       "      <td>51.0</td>\n",
       "      <td>36 months</td>\n",
       "      <td>NaN</td>\n",
       "      <td>89165.0</td>\n",
       "      <td>0.0</td>\n",
       "      <td>18200.0</td>\n",
       "      <td>11.0</td>\n",
       "      <td>5.0</td>\n",
       "      <td>NaN</td>\n",
       "      <td>0.0</td>\n",
       "      <td>...</td>\n",
       "      <td>6.0</td>\n",
       "      <td>2.0</td>\n",
       "      <td>RENT</td>\n",
       "      <td>4.0</td>\n",
       "      <td>NaN</td>\n",
       "      <td>f</td>\n",
       "      <td>9.0</td>\n",
       "      <td>0.0</td>\n",
       "      <td>Mar-2017</td>\n",
       "      <td>Fully Paid</td>\n",
       "    </tr>\n",
       "  </tbody>\n",
       "</table>\n",
       "<p>5 rows × 108 columns</p>\n",
       "</div>"
      ],
      "text/plain": [
       "   mthssincerecentbc        term  memberid  tothicredlim  numacctsever120pd  \\\n",
       "0              162.0   36 months       NaN       45619.0                0.0   \n",
       "1               20.0   36 months       NaN       55700.0                0.0   \n",
       "2               36.0   36 months       NaN      184966.0                0.0   \n",
       "5               24.0   36 months       NaN       88045.0                0.0   \n",
       "6               51.0   36 months       NaN       89165.0                0.0   \n",
       "\n",
       "   totalrevhilim  mthssincercntil  accopenpast24mths  secapprevolutil  \\\n",
       "0        31700.0             21.0                3.0              NaN   \n",
       "1        23100.0              3.0                7.0              NaN   \n",
       "2        19100.0             22.0                1.0              NaN   \n",
       "5        15800.0             16.0                2.0              NaN   \n",
       "6        18200.0             11.0                5.0              NaN   \n",
       "\n",
       "   mortacc     ...      mosinrcnttl  numtloppast12m  homeownership  \\\n",
       "0      0.0     ...             13.0             0.0           RENT   \n",
       "1      0.0     ...              0.0             4.0           RENT   \n",
       "2      1.0     ...             22.0             0.0       MORTGAGE   \n",
       "5      0.0     ...             16.0             0.0           RENT   \n",
       "6      0.0     ...              6.0             2.0           RENT   \n",
       "\n",
       "  numactvrevtl  desc  initialliststatus  openacc  chargeoffwithin12mths  \\\n",
       "0          5.0   NaN                  w      9.0                    0.0   \n",
       "1          4.0   NaN                  w      9.0                    0.0   \n",
       "2          3.0   NaN                  f     10.0                    0.0   \n",
       "5          1.0   NaN                  f     12.0                    0.0   \n",
       "6          4.0   NaN                  f      9.0                    0.0   \n",
       "\n",
       "     issued  loanstatus  \n",
       "0  Mar-2017  Fully Paid  \n",
       "1  Mar-2017     Current  \n",
       "2  Mar-2017  Fully Paid  \n",
       "5  Mar-2017  Fully Paid  \n",
       "6  Mar-2017  Fully Paid  \n",
       "\n",
       "[5 rows x 108 columns]"
      ]
     },
     "execution_count": 71,
     "metadata": {},
     "output_type": "execute_result"
    }
   ],
   "source": [
    "df_36.head()"
   ]
  },
  {
   "cell_type": "code",
   "execution_count": 9,
   "metadata": {},
   "outputs": [],
   "source": [
    "df_36 = df_36.query(\"loanstatus == 'Fully Paid' or loanstatus == 'Charged Off' \")"
   ]
  },
  {
   "cell_type": "code",
   "execution_count": 10,
   "metadata": {},
   "outputs": [],
   "source": [
    "# change loanstatus to 0 and 1\n",
    "n_map = {'Charged Off':1, \n",
    "          'Fully Paid':0}\n",
    "df_36['loanstatus'] = df_36['loanstatus'].replace(n_map)"
   ]
  },
  {
   "cell_type": "markdown",
   "metadata": {},
   "source": [
    "## Data Visulization"
   ]
  },
  {
   "cell_type": "code",
   "execution_count": 11,
   "metadata": {},
   "outputs": [
    {
     "data": {
      "text/html": [
       "        <script type=\"text/javascript\">\n",
       "        window.PlotlyConfig = {MathJaxConfig: 'local'};\n",
       "        if (window.MathJax) {MathJax.Hub.Config({SVG: {font: \"STIX-Web\"}});}\n",
       "        if (typeof require !== 'undefined') {\n",
       "        require.undef(\"plotly\");\n",
       "        requirejs.config({\n",
       "            paths: {\n",
       "                'plotly': ['https://cdn.plot.ly/plotly-latest.min']\n",
       "            }\n",
       "        });\n",
       "        require(['plotly'], function(Plotly) {\n",
       "            window._Plotly = Plotly;\n",
       "        });\n",
       "        }\n",
       "        </script>\n",
       "        "
      ]
     },
     "metadata": {},
     "output_type": "display_data"
    },
    {
     "data": {
      "application/vnd.plotly.v1+json": {
       "config": {
        "linkText": "Export to plot.ly",
        "plotlyServerURL": "https://plot.ly",
        "showLink": false
       },
       "data": [
        {
         "labels": [
          "Fully Paid",
          "Charged Off"
         ],
         "type": "pie",
         "values": [
          214502,
          43274
         ]
        }
       ],
       "layout": {
        "template": {
         "data": {
          "bar": [
           {
            "error_x": {
             "color": "#2a3f5f"
            },
            "error_y": {
             "color": "#2a3f5f"
            },
            "marker": {
             "line": {
              "color": "#E5ECF6",
              "width": 0.5
             }
            },
            "type": "bar"
           }
          ],
          "barpolar": [
           {
            "marker": {
             "line": {
              "color": "#E5ECF6",
              "width": 0.5
             }
            },
            "type": "barpolar"
           }
          ],
          "carpet": [
           {
            "aaxis": {
             "endlinecolor": "#2a3f5f",
             "gridcolor": "white",
             "linecolor": "white",
             "minorgridcolor": "white",
             "startlinecolor": "#2a3f5f"
            },
            "baxis": {
             "endlinecolor": "#2a3f5f",
             "gridcolor": "white",
             "linecolor": "white",
             "minorgridcolor": "white",
             "startlinecolor": "#2a3f5f"
            },
            "type": "carpet"
           }
          ],
          "choropleth": [
           {
            "colorbar": {
             "outlinewidth": 0,
             "ticks": ""
            },
            "type": "choropleth"
           }
          ],
          "contour": [
           {
            "colorbar": {
             "outlinewidth": 0,
             "ticks": ""
            },
            "colorscale": [
             [
              0,
              "#0d0887"
             ],
             [
              0.1111111111111111,
              "#46039f"
             ],
             [
              0.2222222222222222,
              "#7201a8"
             ],
             [
              0.3333333333333333,
              "#9c179e"
             ],
             [
              0.4444444444444444,
              "#bd3786"
             ],
             [
              0.5555555555555556,
              "#d8576b"
             ],
             [
              0.6666666666666666,
              "#ed7953"
             ],
             [
              0.7777777777777778,
              "#fb9f3a"
             ],
             [
              0.8888888888888888,
              "#fdca26"
             ],
             [
              1,
              "#f0f921"
             ]
            ],
            "type": "contour"
           }
          ],
          "contourcarpet": [
           {
            "colorbar": {
             "outlinewidth": 0,
             "ticks": ""
            },
            "type": "contourcarpet"
           }
          ],
          "heatmap": [
           {
            "colorbar": {
             "outlinewidth": 0,
             "ticks": ""
            },
            "colorscale": [
             [
              0,
              "#0d0887"
             ],
             [
              0.1111111111111111,
              "#46039f"
             ],
             [
              0.2222222222222222,
              "#7201a8"
             ],
             [
              0.3333333333333333,
              "#9c179e"
             ],
             [
              0.4444444444444444,
              "#bd3786"
             ],
             [
              0.5555555555555556,
              "#d8576b"
             ],
             [
              0.6666666666666666,
              "#ed7953"
             ],
             [
              0.7777777777777778,
              "#fb9f3a"
             ],
             [
              0.8888888888888888,
              "#fdca26"
             ],
             [
              1,
              "#f0f921"
             ]
            ],
            "type": "heatmap"
           }
          ],
          "heatmapgl": [
           {
            "colorbar": {
             "outlinewidth": 0,
             "ticks": ""
            },
            "colorscale": [
             [
              0,
              "#0d0887"
             ],
             [
              0.1111111111111111,
              "#46039f"
             ],
             [
              0.2222222222222222,
              "#7201a8"
             ],
             [
              0.3333333333333333,
              "#9c179e"
             ],
             [
              0.4444444444444444,
              "#bd3786"
             ],
             [
              0.5555555555555556,
              "#d8576b"
             ],
             [
              0.6666666666666666,
              "#ed7953"
             ],
             [
              0.7777777777777778,
              "#fb9f3a"
             ],
             [
              0.8888888888888888,
              "#fdca26"
             ],
             [
              1,
              "#f0f921"
             ]
            ],
            "type": "heatmapgl"
           }
          ],
          "histogram": [
           {
            "marker": {
             "colorbar": {
              "outlinewidth": 0,
              "ticks": ""
             }
            },
            "type": "histogram"
           }
          ],
          "histogram2d": [
           {
            "colorbar": {
             "outlinewidth": 0,
             "ticks": ""
            },
            "colorscale": [
             [
              0,
              "#0d0887"
             ],
             [
              0.1111111111111111,
              "#46039f"
             ],
             [
              0.2222222222222222,
              "#7201a8"
             ],
             [
              0.3333333333333333,
              "#9c179e"
             ],
             [
              0.4444444444444444,
              "#bd3786"
             ],
             [
              0.5555555555555556,
              "#d8576b"
             ],
             [
              0.6666666666666666,
              "#ed7953"
             ],
             [
              0.7777777777777778,
              "#fb9f3a"
             ],
             [
              0.8888888888888888,
              "#fdca26"
             ],
             [
              1,
              "#f0f921"
             ]
            ],
            "type": "histogram2d"
           }
          ],
          "histogram2dcontour": [
           {
            "colorbar": {
             "outlinewidth": 0,
             "ticks": ""
            },
            "colorscale": [
             [
              0,
              "#0d0887"
             ],
             [
              0.1111111111111111,
              "#46039f"
             ],
             [
              0.2222222222222222,
              "#7201a8"
             ],
             [
              0.3333333333333333,
              "#9c179e"
             ],
             [
              0.4444444444444444,
              "#bd3786"
             ],
             [
              0.5555555555555556,
              "#d8576b"
             ],
             [
              0.6666666666666666,
              "#ed7953"
             ],
             [
              0.7777777777777778,
              "#fb9f3a"
             ],
             [
              0.8888888888888888,
              "#fdca26"
             ],
             [
              1,
              "#f0f921"
             ]
            ],
            "type": "histogram2dcontour"
           }
          ],
          "mesh3d": [
           {
            "colorbar": {
             "outlinewidth": 0,
             "ticks": ""
            },
            "type": "mesh3d"
           }
          ],
          "parcoords": [
           {
            "line": {
             "colorbar": {
              "outlinewidth": 0,
              "ticks": ""
             }
            },
            "type": "parcoords"
           }
          ],
          "pie": [
           {
            "automargin": true,
            "type": "pie"
           }
          ],
          "scatter": [
           {
            "marker": {
             "colorbar": {
              "outlinewidth": 0,
              "ticks": ""
             }
            },
            "type": "scatter"
           }
          ],
          "scatter3d": [
           {
            "line": {
             "colorbar": {
              "outlinewidth": 0,
              "ticks": ""
             }
            },
            "marker": {
             "colorbar": {
              "outlinewidth": 0,
              "ticks": ""
             }
            },
            "type": "scatter3d"
           }
          ],
          "scattercarpet": [
           {
            "marker": {
             "colorbar": {
              "outlinewidth": 0,
              "ticks": ""
             }
            },
            "type": "scattercarpet"
           }
          ],
          "scattergeo": [
           {
            "marker": {
             "colorbar": {
              "outlinewidth": 0,
              "ticks": ""
             }
            },
            "type": "scattergeo"
           }
          ],
          "scattergl": [
           {
            "marker": {
             "colorbar": {
              "outlinewidth": 0,
              "ticks": ""
             }
            },
            "type": "scattergl"
           }
          ],
          "scattermapbox": [
           {
            "marker": {
             "colorbar": {
              "outlinewidth": 0,
              "ticks": ""
             }
            },
            "type": "scattermapbox"
           }
          ],
          "scatterpolar": [
           {
            "marker": {
             "colorbar": {
              "outlinewidth": 0,
              "ticks": ""
             }
            },
            "type": "scatterpolar"
           }
          ],
          "scatterpolargl": [
           {
            "marker": {
             "colorbar": {
              "outlinewidth": 0,
              "ticks": ""
             }
            },
            "type": "scatterpolargl"
           }
          ],
          "scatterternary": [
           {
            "marker": {
             "colorbar": {
              "outlinewidth": 0,
              "ticks": ""
             }
            },
            "type": "scatterternary"
           }
          ],
          "surface": [
           {
            "colorbar": {
             "outlinewidth": 0,
             "ticks": ""
            },
            "colorscale": [
             [
              0,
              "#0d0887"
             ],
             [
              0.1111111111111111,
              "#46039f"
             ],
             [
              0.2222222222222222,
              "#7201a8"
             ],
             [
              0.3333333333333333,
              "#9c179e"
             ],
             [
              0.4444444444444444,
              "#bd3786"
             ],
             [
              0.5555555555555556,
              "#d8576b"
             ],
             [
              0.6666666666666666,
              "#ed7953"
             ],
             [
              0.7777777777777778,
              "#fb9f3a"
             ],
             [
              0.8888888888888888,
              "#fdca26"
             ],
             [
              1,
              "#f0f921"
             ]
            ],
            "type": "surface"
           }
          ],
          "table": [
           {
            "cells": {
             "fill": {
              "color": "#EBF0F8"
             },
             "line": {
              "color": "white"
             }
            },
            "header": {
             "fill": {
              "color": "#C8D4E3"
             },
             "line": {
              "color": "white"
             }
            },
            "type": "table"
           }
          ]
         },
         "layout": {
          "annotationdefaults": {
           "arrowcolor": "#2a3f5f",
           "arrowhead": 0,
           "arrowwidth": 1
          },
          "autotypenumbers": "strict",
          "coloraxis": {
           "colorbar": {
            "outlinewidth": 0,
            "ticks": ""
           }
          },
          "colorscale": {
           "diverging": [
            [
             0,
             "#8e0152"
            ],
            [
             0.1,
             "#c51b7d"
            ],
            [
             0.2,
             "#de77ae"
            ],
            [
             0.3,
             "#f1b6da"
            ],
            [
             0.4,
             "#fde0ef"
            ],
            [
             0.5,
             "#f7f7f7"
            ],
            [
             0.6,
             "#e6f5d0"
            ],
            [
             0.7,
             "#b8e186"
            ],
            [
             0.8,
             "#7fbc41"
            ],
            [
             0.9,
             "#4d9221"
            ],
            [
             1,
             "#276419"
            ]
           ],
           "sequential": [
            [
             0,
             "#0d0887"
            ],
            [
             0.1111111111111111,
             "#46039f"
            ],
            [
             0.2222222222222222,
             "#7201a8"
            ],
            [
             0.3333333333333333,
             "#9c179e"
            ],
            [
             0.4444444444444444,
             "#bd3786"
            ],
            [
             0.5555555555555556,
             "#d8576b"
            ],
            [
             0.6666666666666666,
             "#ed7953"
            ],
            [
             0.7777777777777778,
             "#fb9f3a"
            ],
            [
             0.8888888888888888,
             "#fdca26"
            ],
            [
             1,
             "#f0f921"
            ]
           ],
           "sequentialminus": [
            [
             0,
             "#0d0887"
            ],
            [
             0.1111111111111111,
             "#46039f"
            ],
            [
             0.2222222222222222,
             "#7201a8"
            ],
            [
             0.3333333333333333,
             "#9c179e"
            ],
            [
             0.4444444444444444,
             "#bd3786"
            ],
            [
             0.5555555555555556,
             "#d8576b"
            ],
            [
             0.6666666666666666,
             "#ed7953"
            ],
            [
             0.7777777777777778,
             "#fb9f3a"
            ],
            [
             0.8888888888888888,
             "#fdca26"
            ],
            [
             1,
             "#f0f921"
            ]
           ]
          },
          "colorway": [
           "#636efa",
           "#EF553B",
           "#00cc96",
           "#ab63fa",
           "#FFA15A",
           "#19d3f3",
           "#FF6692",
           "#B6E880",
           "#FF97FF",
           "#FECB52"
          ],
          "font": {
           "color": "#2a3f5f"
          },
          "geo": {
           "bgcolor": "white",
           "lakecolor": "white",
           "landcolor": "#E5ECF6",
           "showlakes": true,
           "showland": true,
           "subunitcolor": "white"
          },
          "hoverlabel": {
           "align": "left"
          },
          "hovermode": "closest",
          "mapbox": {
           "style": "light"
          },
          "paper_bgcolor": "white",
          "plot_bgcolor": "#E5ECF6",
          "polar": {
           "angularaxis": {
            "gridcolor": "white",
            "linecolor": "white",
            "ticks": ""
           },
           "bgcolor": "#E5ECF6",
           "radialaxis": {
            "gridcolor": "white",
            "linecolor": "white",
            "ticks": ""
           }
          },
          "scene": {
           "xaxis": {
            "backgroundcolor": "#E5ECF6",
            "gridcolor": "white",
            "gridwidth": 2,
            "linecolor": "white",
            "showbackground": true,
            "ticks": "",
            "zerolinecolor": "white"
           },
           "yaxis": {
            "backgroundcolor": "#E5ECF6",
            "gridcolor": "white",
            "gridwidth": 2,
            "linecolor": "white",
            "showbackground": true,
            "ticks": "",
            "zerolinecolor": "white"
           },
           "zaxis": {
            "backgroundcolor": "#E5ECF6",
            "gridcolor": "white",
            "gridwidth": 2,
            "linecolor": "white",
            "showbackground": true,
            "ticks": "",
            "zerolinecolor": "white"
           }
          },
          "shapedefaults": {
           "line": {
            "color": "#2a3f5f"
           }
          },
          "ternary": {
           "aaxis": {
            "gridcolor": "white",
            "linecolor": "white",
            "ticks": ""
           },
           "baxis": {
            "gridcolor": "white",
            "linecolor": "white",
            "ticks": ""
           },
           "bgcolor": "#E5ECF6",
           "caxis": {
            "gridcolor": "white",
            "linecolor": "white",
            "ticks": ""
           }
          },
          "title": {
           "x": 0.05
          },
          "xaxis": {
           "automargin": true,
           "gridcolor": "white",
           "linecolor": "white",
           "ticks": "",
           "title": {
            "standoff": 15
           },
           "zerolinecolor": "white",
           "zerolinewidth": 2
          },
          "yaxis": {
           "automargin": true,
           "gridcolor": "white",
           "linecolor": "white",
           "ticks": "",
           "title": {
            "standoff": 15
           },
           "zerolinecolor": "white",
           "zerolinewidth": 2
          }
         }
        },
        "title": {
         "text": "Distribution of loanstatus"
        }
       }
      },
      "text/html": [
       "<div>                            <div id=\"9a60b0a3-df01-438c-9a84-8a7e74367517\" class=\"plotly-graph-div\" style=\"height:525px; width:100%;\"></div>            <script type=\"text/javascript\">                require([\"plotly\"], function(Plotly) {                    window.PLOTLYENV=window.PLOTLYENV || {};                                    if (document.getElementById(\"9a60b0a3-df01-438c-9a84-8a7e74367517\")) {                    Plotly.newPlot(                        \"9a60b0a3-df01-438c-9a84-8a7e74367517\",                        [{\"labels\": [\"Fully Paid\", \"Charged Off\"], \"type\": \"pie\", \"values\": [214502, 43274]}],                        {\"template\": {\"data\": {\"bar\": [{\"error_x\": {\"color\": \"#2a3f5f\"}, \"error_y\": {\"color\": \"#2a3f5f\"}, \"marker\": {\"line\": {\"color\": \"#E5ECF6\", \"width\": 0.5}}, \"type\": \"bar\"}], \"barpolar\": [{\"marker\": {\"line\": {\"color\": \"#E5ECF6\", \"width\": 0.5}}, \"type\": \"barpolar\"}], \"carpet\": [{\"aaxis\": {\"endlinecolor\": \"#2a3f5f\", \"gridcolor\": \"white\", \"linecolor\": \"white\", \"minorgridcolor\": \"white\", \"startlinecolor\": \"#2a3f5f\"}, \"baxis\": {\"endlinecolor\": \"#2a3f5f\", \"gridcolor\": \"white\", \"linecolor\": \"white\", \"minorgridcolor\": \"white\", \"startlinecolor\": \"#2a3f5f\"}, \"type\": \"carpet\"}], \"choropleth\": [{\"colorbar\": {\"outlinewidth\": 0, \"ticks\": \"\"}, \"type\": \"choropleth\"}], \"contour\": [{\"colorbar\": {\"outlinewidth\": 0, \"ticks\": \"\"}, \"colorscale\": [[0.0, \"#0d0887\"], [0.1111111111111111, \"#46039f\"], [0.2222222222222222, \"#7201a8\"], [0.3333333333333333, \"#9c179e\"], [0.4444444444444444, \"#bd3786\"], [0.5555555555555556, \"#d8576b\"], [0.6666666666666666, \"#ed7953\"], [0.7777777777777778, \"#fb9f3a\"], [0.8888888888888888, \"#fdca26\"], [1.0, \"#f0f921\"]], \"type\": \"contour\"}], \"contourcarpet\": [{\"colorbar\": {\"outlinewidth\": 0, \"ticks\": \"\"}, \"type\": \"contourcarpet\"}], \"heatmap\": [{\"colorbar\": {\"outlinewidth\": 0, \"ticks\": \"\"}, \"colorscale\": [[0.0, \"#0d0887\"], [0.1111111111111111, \"#46039f\"], [0.2222222222222222, \"#7201a8\"], [0.3333333333333333, \"#9c179e\"], [0.4444444444444444, \"#bd3786\"], [0.5555555555555556, \"#d8576b\"], [0.6666666666666666, \"#ed7953\"], [0.7777777777777778, \"#fb9f3a\"], [0.8888888888888888, \"#fdca26\"], [1.0, \"#f0f921\"]], \"type\": \"heatmap\"}], \"heatmapgl\": [{\"colorbar\": {\"outlinewidth\": 0, \"ticks\": \"\"}, \"colorscale\": [[0.0, \"#0d0887\"], [0.1111111111111111, \"#46039f\"], [0.2222222222222222, \"#7201a8\"], [0.3333333333333333, \"#9c179e\"], [0.4444444444444444, \"#bd3786\"], [0.5555555555555556, \"#d8576b\"], [0.6666666666666666, \"#ed7953\"], [0.7777777777777778, \"#fb9f3a\"], [0.8888888888888888, \"#fdca26\"], [1.0, \"#f0f921\"]], \"type\": \"heatmapgl\"}], \"histogram\": [{\"marker\": {\"colorbar\": {\"outlinewidth\": 0, \"ticks\": \"\"}}, \"type\": \"histogram\"}], \"histogram2d\": [{\"colorbar\": {\"outlinewidth\": 0, \"ticks\": \"\"}, \"colorscale\": [[0.0, \"#0d0887\"], [0.1111111111111111, \"#46039f\"], [0.2222222222222222, \"#7201a8\"], [0.3333333333333333, \"#9c179e\"], [0.4444444444444444, \"#bd3786\"], [0.5555555555555556, \"#d8576b\"], [0.6666666666666666, \"#ed7953\"], [0.7777777777777778, \"#fb9f3a\"], [0.8888888888888888, \"#fdca26\"], [1.0, \"#f0f921\"]], \"type\": \"histogram2d\"}], \"histogram2dcontour\": [{\"colorbar\": {\"outlinewidth\": 0, \"ticks\": \"\"}, \"colorscale\": [[0.0, \"#0d0887\"], [0.1111111111111111, \"#46039f\"], [0.2222222222222222, \"#7201a8\"], [0.3333333333333333, \"#9c179e\"], [0.4444444444444444, \"#bd3786\"], [0.5555555555555556, \"#d8576b\"], [0.6666666666666666, \"#ed7953\"], [0.7777777777777778, \"#fb9f3a\"], [0.8888888888888888, \"#fdca26\"], [1.0, \"#f0f921\"]], \"type\": \"histogram2dcontour\"}], \"mesh3d\": [{\"colorbar\": {\"outlinewidth\": 0, \"ticks\": \"\"}, \"type\": \"mesh3d\"}], \"parcoords\": [{\"line\": {\"colorbar\": {\"outlinewidth\": 0, \"ticks\": \"\"}}, \"type\": \"parcoords\"}], \"pie\": [{\"automargin\": true, \"type\": \"pie\"}], \"scatter\": [{\"marker\": {\"colorbar\": {\"outlinewidth\": 0, \"ticks\": \"\"}}, \"type\": \"scatter\"}], \"scatter3d\": [{\"line\": {\"colorbar\": {\"outlinewidth\": 0, \"ticks\": \"\"}}, \"marker\": {\"colorbar\": {\"outlinewidth\": 0, \"ticks\": \"\"}}, \"type\": \"scatter3d\"}], \"scattercarpet\": [{\"marker\": {\"colorbar\": {\"outlinewidth\": 0, \"ticks\": \"\"}}, \"type\": \"scattercarpet\"}], \"scattergeo\": [{\"marker\": {\"colorbar\": {\"outlinewidth\": 0, \"ticks\": \"\"}}, \"type\": \"scattergeo\"}], \"scattergl\": [{\"marker\": {\"colorbar\": {\"outlinewidth\": 0, \"ticks\": \"\"}}, \"type\": \"scattergl\"}], \"scattermapbox\": [{\"marker\": {\"colorbar\": {\"outlinewidth\": 0, \"ticks\": \"\"}}, \"type\": \"scattermapbox\"}], \"scatterpolar\": [{\"marker\": {\"colorbar\": {\"outlinewidth\": 0, \"ticks\": \"\"}}, \"type\": \"scatterpolar\"}], \"scatterpolargl\": [{\"marker\": {\"colorbar\": {\"outlinewidth\": 0, \"ticks\": \"\"}}, \"type\": \"scatterpolargl\"}], \"scatterternary\": [{\"marker\": {\"colorbar\": {\"outlinewidth\": 0, \"ticks\": \"\"}}, \"type\": \"scatterternary\"}], \"surface\": [{\"colorbar\": {\"outlinewidth\": 0, \"ticks\": \"\"}, \"colorscale\": [[0.0, \"#0d0887\"], [0.1111111111111111, \"#46039f\"], [0.2222222222222222, \"#7201a8\"], [0.3333333333333333, \"#9c179e\"], [0.4444444444444444, \"#bd3786\"], [0.5555555555555556, \"#d8576b\"], [0.6666666666666666, \"#ed7953\"], [0.7777777777777778, \"#fb9f3a\"], [0.8888888888888888, \"#fdca26\"], [1.0, \"#f0f921\"]], \"type\": \"surface\"}], \"table\": [{\"cells\": {\"fill\": {\"color\": \"#EBF0F8\"}, \"line\": {\"color\": \"white\"}}, \"header\": {\"fill\": {\"color\": \"#C8D4E3\"}, \"line\": {\"color\": \"white\"}}, \"type\": \"table\"}]}, \"layout\": {\"annotationdefaults\": {\"arrowcolor\": \"#2a3f5f\", \"arrowhead\": 0, \"arrowwidth\": 1}, \"autotypenumbers\": \"strict\", \"coloraxis\": {\"colorbar\": {\"outlinewidth\": 0, \"ticks\": \"\"}}, \"colorscale\": {\"diverging\": [[0, \"#8e0152\"], [0.1, \"#c51b7d\"], [0.2, \"#de77ae\"], [0.3, \"#f1b6da\"], [0.4, \"#fde0ef\"], [0.5, \"#f7f7f7\"], [0.6, \"#e6f5d0\"], [0.7, \"#b8e186\"], [0.8, \"#7fbc41\"], [0.9, \"#4d9221\"], [1, \"#276419\"]], \"sequential\": [[0.0, \"#0d0887\"], [0.1111111111111111, \"#46039f\"], [0.2222222222222222, \"#7201a8\"], [0.3333333333333333, \"#9c179e\"], [0.4444444444444444, \"#bd3786\"], [0.5555555555555556, \"#d8576b\"], [0.6666666666666666, \"#ed7953\"], [0.7777777777777778, \"#fb9f3a\"], [0.8888888888888888, \"#fdca26\"], [1.0, \"#f0f921\"]], \"sequentialminus\": [[0.0, \"#0d0887\"], [0.1111111111111111, \"#46039f\"], [0.2222222222222222, \"#7201a8\"], [0.3333333333333333, \"#9c179e\"], [0.4444444444444444, \"#bd3786\"], [0.5555555555555556, \"#d8576b\"], [0.6666666666666666, \"#ed7953\"], [0.7777777777777778, \"#fb9f3a\"], [0.8888888888888888, \"#fdca26\"], [1.0, \"#f0f921\"]]}, \"colorway\": [\"#636efa\", \"#EF553B\", \"#00cc96\", \"#ab63fa\", \"#FFA15A\", \"#19d3f3\", \"#FF6692\", \"#B6E880\", \"#FF97FF\", \"#FECB52\"], \"font\": {\"color\": \"#2a3f5f\"}, \"geo\": {\"bgcolor\": \"white\", \"lakecolor\": \"white\", \"landcolor\": \"#E5ECF6\", \"showlakes\": true, \"showland\": true, \"subunitcolor\": \"white\"}, \"hoverlabel\": {\"align\": \"left\"}, \"hovermode\": \"closest\", \"mapbox\": {\"style\": \"light\"}, \"paper_bgcolor\": \"white\", \"plot_bgcolor\": \"#E5ECF6\", \"polar\": {\"angularaxis\": {\"gridcolor\": \"white\", \"linecolor\": \"white\", \"ticks\": \"\"}, \"bgcolor\": \"#E5ECF6\", \"radialaxis\": {\"gridcolor\": \"white\", \"linecolor\": \"white\", \"ticks\": \"\"}}, \"scene\": {\"xaxis\": {\"backgroundcolor\": \"#E5ECF6\", \"gridcolor\": \"white\", \"gridwidth\": 2, \"linecolor\": \"white\", \"showbackground\": true, \"ticks\": \"\", \"zerolinecolor\": \"white\"}, \"yaxis\": {\"backgroundcolor\": \"#E5ECF6\", \"gridcolor\": \"white\", \"gridwidth\": 2, \"linecolor\": \"white\", \"showbackground\": true, \"ticks\": \"\", \"zerolinecolor\": \"white\"}, \"zaxis\": {\"backgroundcolor\": \"#E5ECF6\", \"gridcolor\": \"white\", \"gridwidth\": 2, \"linecolor\": \"white\", \"showbackground\": true, \"ticks\": \"\", \"zerolinecolor\": \"white\"}}, \"shapedefaults\": {\"line\": {\"color\": \"#2a3f5f\"}}, \"ternary\": {\"aaxis\": {\"gridcolor\": \"white\", \"linecolor\": \"white\", \"ticks\": \"\"}, \"baxis\": {\"gridcolor\": \"white\", \"linecolor\": \"white\", \"ticks\": \"\"}, \"bgcolor\": \"#E5ECF6\", \"caxis\": {\"gridcolor\": \"white\", \"linecolor\": \"white\", \"ticks\": \"\"}}, \"title\": {\"x\": 0.05}, \"xaxis\": {\"automargin\": true, \"gridcolor\": \"white\", \"linecolor\": \"white\", \"ticks\": \"\", \"title\": {\"standoff\": 15}, \"zerolinecolor\": \"white\", \"zerolinewidth\": 2}, \"yaxis\": {\"automargin\": true, \"gridcolor\": \"white\", \"linecolor\": \"white\", \"ticks\": \"\", \"title\": {\"standoff\": 15}, \"zerolinecolor\": \"white\", \"zerolinewidth\": 2}}}, \"title\": {\"text\": \"Distribution of loanstatus\"}},                        {\"responsive\": true}                    ).then(function(){\n",
       "                            \n",
       "var gd = document.getElementById('9a60b0a3-df01-438c-9a84-8a7e74367517');\n",
       "var x = new MutationObserver(function (mutations, observer) {{\n",
       "        var display = window.getComputedStyle(gd).display;\n",
       "        if (!display || display === 'none') {{\n",
       "            console.log([gd, 'removed!']);\n",
       "            Plotly.purge(gd);\n",
       "            observer.disconnect();\n",
       "        }}\n",
       "}});\n",
       "\n",
       "// Listen for the removal of the full notebook cells\n",
       "var notebookContainer = gd.closest('#notebook-container');\n",
       "if (notebookContainer) {{\n",
       "    x.observe(notebookContainer, {childList: true});\n",
       "}}\n",
       "\n",
       "// Listen for the clearing of the current output cell\n",
       "var outputEl = gd.closest('.output');\n",
       "if (outputEl) {{\n",
       "    x.observe(outputEl, {childList: true});\n",
       "}}\n",
       "\n",
       "                        })                };                });            </script>        </div>"
      ]
     },
     "metadata": {},
     "output_type": "display_data"
    }
   ],
   "source": [
    "#Distribution of loanstatus in 36-month loan\n",
    "import plotly.offline as py\n",
    "py.init_notebook_mode(connected=True)\n",
    "import plotly.graph_objs as go\n",
    "\n",
    "trace = go.Pie(values=df_36['loanstatus'].value_counts(), labels=['Fully Paid','Charged Off'] )\n",
    "layout = dict(title = 'Distribution of loanstatus')         \n",
    "fig = dict(data = [trace], layout=layout)\n",
    "py.iplot(fig)"
   ]
  },
  {
   "cell_type": "code",
   "execution_count": 11,
   "metadata": {},
   "outputs": [],
   "source": [
    "dummy_data = [\"term\",\"title\", \"emplength\", \"addrstate\", 'homeownership', \n",
    "              \"grade\", \"subgrade\", 'applicationtype', 'initialliststatus', \"issued\"]"
   ]
  },
  {
   "cell_type": "code",
   "execution_count": 97,
   "metadata": {},
   "outputs": [
    {
     "data": {
      "text/plain": [
       "<matplotlib.axes._subplots.AxesSubplot at 0x1a284289b0>"
      ]
     },
     "execution_count": 97,
     "metadata": {},
     "output_type": "execute_result"
    },
    {
     "data": {
      "image/png": "[encoded data removed]",
      "text/plain": [
       "<Figure size 432x288 with 1 Axes>"
      ]
     },
     "metadata": {
      "needs_background": "light"
     },
     "output_type": "display_data"
    }
   ],
   "source": [
    "#loanstatus and different loan terms\n",
    "sns.countplot(x='term', hue='loanstatus', data=df)"
   ]
  },
  {
   "cell_type": "code",
   "execution_count": 103,
   "metadata": {},
   "outputs": [
    {
     "data": {
      "text/plain": [
       "<matplotlib.axes._subplots.AxesSubplot at 0x1a21abea20>"
      ]
     },
     "execution_count": 103,
     "metadata": {},
     "output_type": "execute_result"
    },
    {
     "data": {
      "image/png": "[encoded data removed]",
      "text/plain": [
       "<Figure size 720x576 with 1 Axes>"
      ]
     },
     "metadata": {
      "needs_background": "light"
     },
     "output_type": "display_data"
    }
   ],
   "source": [
    "#loanstatus and home ownership\n",
    "plt.figure(figsize=(10,8))\n",
    "sns.countplot(x='homeownership', hue='loanstatus', data=df)"
   ]
  },
  {
   "cell_type": "code",
   "execution_count": 110,
   "metadata": {},
   "outputs": [
    {
     "data": {
      "text/plain": [
       "<seaborn.axisgrid.FacetGrid at 0x1ab3805518>"
      ]
     },
     "execution_count": 110,
     "metadata": {},
     "output_type": "execute_result"
    },
    {
     "data": {
      "text/plain": [
       "<Figure size 720x576 with 0 Axes>"
      ]
     },
     "metadata": {},
     "output_type": "display_data"
    },
    {
     "data": {
      "image/png": "[encoded data removed]",
      "text/plain": [
       "<Figure size 360x360 with 1 Axes>"
      ]
     },
     "metadata": {
      "needs_background": "light"
     },
     "output_type": "display_data"
    }
   ],
   "source": [
    "plt.figure(figsize=(10,8))\n",
    "sns.catplot(x=\"grade\", y=\"loanstatus\", kind=\"bar\", data=df_36, order = ['A', 'B', 'C', 'D', 'E', 'F', 'G'])"
   ]
  },
  {
   "cell_type": "code",
   "execution_count": 114,
   "metadata": {},
   "outputs": [
    {
     "data": {
      "text/plain": [
       "<matplotlib.axes._subplots.AxesSubplot at 0x1a25600a90>"
      ]
     },
     "execution_count": 114,
     "metadata": {},
     "output_type": "execute_result"
    },
    {
     "data": {
      "image/png": "[encoded data removed]",
      "text/plain": [
       "<Figure size 576x360 with 1 Axes>"
      ]
     },
     "metadata": {
      "needs_background": "light"
     },
     "output_type": "display_data"
    }
   ],
   "source": [
    "#delinq in past 2 years is 13 has the lowest mean of loanstatus, while 19 is the most possible to be charged off\n",
    "df1 = df_36.groupby(['delinq2yrs'])['loanstatus'].mean()\n",
    "df1.plot(kind='bar', figsize=(8, 5))"
   ]
  },
  {
   "cell_type": "code",
   "execution_count": 13,
   "metadata": {},
   "outputs": [
    {
     "data": {
      "text/plain": [
       "array(['A1', 'A2', 'A3', 'A4', 'A5', 'B1', 'B2', 'B3', 'B4', 'B5', 'C1',\n",
       "       'C2', 'C3', 'C4', 'C5', 'D1', 'D2', 'D3', 'D4', 'D5', 'E1', 'E2',\n",
       "       'E3', 'E4', 'E5', 'F1', 'F2', 'F3', 'F4', 'F5', 'G1', 'G2', 'G3',\n",
       "       'G4', 'G5'], dtype=object)"
      ]
     },
     "execution_count": 13,
     "metadata": {},
     "output_type": "execute_result"
    }
   ],
   "source": [
    "np.sort(df.subgrade.unique())"
   ]
  },
  {
   "cell_type": "code",
   "execution_count": 19,
   "metadata": {
    "scrolled": false
   },
   "outputs": [
    {
     "data": {
      "text/plain": [
       "<matplotlib.axes._subplots.AxesSubplot at 0x1a26aceef0>"
      ]
     },
     "execution_count": 19,
     "metadata": {},
     "output_type": "execute_result"
    },
    {
     "data": {
      "image/png": "[encoded data removed]",
      "text/plain": [
       "<Figure size 1080x576 with 1 Axes>"
      ]
     },
     "metadata": {
      "needs_background": "light"
     },
     "output_type": "display_data"
    }
   ],
   "source": [
    "plt.figure(figsize=(15,8))\n",
    "sns.barplot(x='subgrade', y='loanstatus', data=df_36, order = np.sort(df.subgrade.unique()))"
   ]
  },
  {
   "cell_type": "code",
   "execution_count": 23,
   "metadata": {
    "scrolled": false
   },
   "outputs": [
    {
     "data": {
      "text/plain": [
       "<matplotlib.axes._subplots.AxesSubplot at 0x1a3080d390>"
      ]
     },
     "execution_count": 23,
     "metadata": {},
     "output_type": "execute_result"
    },
    {
     "data": {
      "image/png": "[encoded data removed]",
      "text/plain": [
       "<Figure size 1080x576 with 1 Axes>"
      ]
     },
     "metadata": {
      "needs_background": "light"
     },
     "output_type": "display_data"
    }
   ],
   "source": [
    "#mean of loanstatus and number of openacc\n",
    "df2 = df_36.groupby(['openacc'])['loanstatus'].mean()\n",
    "df2.plot(kind='bar', figsize=(15, 8))"
   ]
  },
  {
   "cell_type": "code",
   "execution_count": 24,
   "metadata": {},
   "outputs": [
    {
     "data": {
      "text/plain": [
       "<matplotlib.axes._subplots.AxesSubplot at 0x1a2ffa7940>"
      ]
     },
     "execution_count": 24,
     "metadata": {},
     "output_type": "execute_result"
    },
    {
     "data": {
      "image/png": "[encoded data removed]",
      "text/plain": [
       "<Figure size 432x288 with 1 Axes>"
      ]
     },
     "metadata": {
      "needs_background": "light"
     },
     "output_type": "display_data"
    }
   ],
   "source": [
    "sns.barplot(x='applicationtype', y='loanstatus', data=df_36)"
   ]
  },
  {
   "cell_type": "code",
   "execution_count": 25,
   "metadata": {},
   "outputs": [
    {
     "data": {
      "text/plain": [
       "<matplotlib.axes._subplots.AxesSubplot at 0x1a3003a908>"
      ]
     },
     "execution_count": 25,
     "metadata": {},
     "output_type": "execute_result"
    },
    {
     "data": {
      "image/png": "[encoded data removed]",
      "text/plain": [
       "<Figure size 432x288 with 1 Axes>"
      ]
     },
     "metadata": {
      "needs_background": "light"
     },
     "output_type": "display_data"
    }
   ],
   "source": [
    "sns.barplot(x='initialliststatus', y='loanstatus', data=df_36)"
   ]
  },
  {
   "cell_type": "code",
   "execution_count": 27,
   "metadata": {
    "scrolled": true
   },
   "outputs": [
    {
     "data": {
      "text/plain": [
       "<matplotlib.axes._subplots.AxesSubplot at 0x1a30846a20>"
      ]
     },
     "execution_count": 27,
     "metadata": {},
     "output_type": "execute_result"
    },
    {
     "data": {
      "image/png": "[encoded data removed]",
      "text/plain": [
       "<Figure size 720x360 with 1 Axes>"
      ]
     },
     "metadata": {
      "needs_background": "light"
     },
     "output_type": "display_data"
    }
   ],
   "source": [
    "plt.figure(figsize=(10,5))\n",
    "sns.barplot(x='issued', y='loanstatus', data=df_36, order = ['Jan-2017','Feb-2017','Mar-2017','Apr-2017','May-2017','Jun-2017','Jul-2017','Aug-2017','Sep-2017','Oct-2017','Nov-2017','Dec-2017'])"
   ]
  },
  {
   "cell_type": "code",
   "execution_count": 12,
   "metadata": {
    "scrolled": true
   },
   "outputs": [
    {
     "data": {
      "image/png": "[encoded data removed]",
      "text/plain": [
       "<Figure size 432x288 with 1 Axes>"
      ]
     },
     "metadata": {
      "needs_background": "light"
     },
     "output_type": "display_data"
    }
   ],
   "source": [
    "# loan status with openacc\n",
    "plt.figure()\n",
    "plt.plot(df_36.groupby('openacc').mean()['loanstatus'])\n",
    "plt.xlabel('# of Open acc')\n",
    "plt.ylabel('Loan status')\n",
    "plt.show()"
   ]
  },
  {
   "cell_type": "code",
   "execution_count": 29,
   "metadata": {},
   "outputs": [
    {
     "data": {
      "text/plain": [
       "<matplotlib.axes._subplots.AxesSubplot at 0x1a23037128>"
      ]
     },
     "execution_count": 29,
     "metadata": {},
     "output_type": "execute_result"
    },
    {
     "data": {
      "image/png": "[encoded data removed]",
      "text/plain": [
       "<Figure size 432x288 with 1 Axes>"
      ]
     },
     "metadata": {
      "needs_background": "light"
     },
     "output_type": "display_data"
    }
   ],
   "source": [
    "sns.scatterplot(df_36['loanstatus'],df_36['annualinc'])\n"
   ]
  },
  {
   "cell_type": "markdown",
   "metadata": {
    "collapsed": true
   },
   "source": [
    "## Feature engineering "
   ]
  },
  {
   "cell_type": "code",
   "execution_count": 42,
   "metadata": {},
   "outputs": [
    {
     "data": {
      "text/plain": [
       "['term',\n",
       " 'purpose',\n",
       " 'title',\n",
       " 'intrate',\n",
       " 'secappearliestcrline',\n",
       " 'applicationtype',\n",
       " 'addrstate',\n",
       " 'revolutil',\n",
       " 'subgrade',\n",
       " 'grade',\n",
       " 'emptitle',\n",
       " 'emplength',\n",
       " 'earliestcrline',\n",
       " 'zipcode',\n",
       " 'homeownership',\n",
       " 'initialliststatus',\n",
       " 'issued']"
      ]
     },
     "execution_count": 42,
     "metadata": {},
     "output_type": "execute_result"
    }
   ],
   "source": [
    "cat_data"
   ]
  },
  {
   "cell_type": "code",
   "execution_count": 86,
   "metadata": {},
   "outputs": [],
   "source": [
    "fre=['addrstate','emptitle','zipcode']"
   ]
  },
  {
   "cell_type": "code",
   "execution_count": 63,
   "metadata": {},
   "outputs": [],
   "source": [
    "# deal with Date \n",
    "dic_month= {'Jan':11,'Feb':10,'Mar':9,'Apr':8, 'May':7, 'Jun':6, 'Jul':5, 'Aug':4, 'Sep':3, 'Oct':2, 'Nov':1, 'Dec':0}"
   ]
  },
  {
   "cell_type": "code",
   "execution_count": 64,
   "metadata": {},
   "outputs": [],
   "source": [
    "df_36['earliestcrline_new']=df_36.earliestcrline.apply(lambda x: (2017-int(x.split('-')[1]))*12+dic_month[x.split('-')[0]])\n",
    "num_data.append('earliestcrline_new')\n",
    "cat_data.remove('earliestcrline')"
   ]
  },
  {
   "cell_type": "code",
   "execution_count": 68,
   "metadata": {},
   "outputs": [],
   "source": [
    "df_36.secappearliestcrline.fillna(value='Dec-2020',inplace=True)\n",
    "df_36['secappearliestcrline_new']=df_36.earliestcrline.apply(lambda x: (2017-int(x.split('-')[1]))*12+dic_month[x.split('-')[0]])\n",
    "num_data.append('secappearliestcrline_new')\n",
    "cat_data.remove('secappearliestcrline')"
   ]
  },
  {
   "cell_type": "code",
   "execution_count": 73,
   "metadata": {},
   "outputs": [],
   "source": [
    "# change format of emplength\n",
    "df_36.emplength.fillna(value=99,inplace=True)\n",
    "df_36['emplength'].replace('< 1 year', '0', inplace=True)\n",
    "df_36['emplength'].replace(to_replace='[^0-9]+', value='', inplace=True, regex=True)"
   ]
  },
  {
   "cell_type": "code",
   "execution_count": 75,
   "metadata": {},
   "outputs": [],
   "source": [
    "df_36['emplength'] = df_36['emplength'].astype(int)\n",
    "cat_data.remove('emplength')\n",
    "num_data.append('emplength')"
   ]
  },
  {
   "cell_type": "code",
   "execution_count": 79,
   "metadata": {},
   "outputs": [],
   "source": [
    "#remove % \n",
    "df_36['intrate'] = df_36.intrate.str.replace('%','')"
   ]
  },
  {
   "cell_type": "code",
   "execution_count": 82,
   "metadata": {},
   "outputs": [],
   "source": [
    "df_36['intrate'] = df_36['intrate'].astype(float)\n",
    "cat_data.remove('intrate')\n",
    "num_data.append('intrate')"
   ]
  },
  {
   "cell_type": "code",
   "execution_count": 84,
   "metadata": {},
   "outputs": [],
   "source": [
    "df_36['revolutil'] = df_36.revolutil.str.replace('%','')\n",
    "df_36['revolutil'] = df_36['revolutil'].astype(float)\n",
    "cat_data.remove('revolutil')\n",
    "num_data.append('revolutil')"
   ]
  },
  {
   "cell_type": "code",
   "execution_count": 87,
   "metadata": {},
   "outputs": [],
   "source": [
    "# get dummy for some categorical data\n",
    "cat1=[i for i in cat_data if i not in fre]\n",
    "dfcat1= pd.get_dummies(df_36[cat1],drop_first = True)"
   ]
  },
  {
   "cell_type": "code",
   "execution_count": 89,
   "metadata": {},
   "outputs": [],
   "source": [
    "# frequency encoding for some data\n",
    "df_36.zipcode.fillna(value='000xx',inplace=True)\n",
    "df_36.zipcode = df_36.zipcode.apply(lambda x: int(x[0:3]))"
   ]
  },
  {
   "cell_type": "code",
   "execution_count": 96,
   "metadata": {},
   "outputs": [],
   "source": [
    "fq = df_36.groupby('zipcode').size()/len(df_36)  \n",
    "df_36.loc[:, \"{}_freq_encode\".format('zipcode')] = df_36['zipcode'].map(fq) "
   ]
  },
  {
   "cell_type": "code",
   "execution_count": 98,
   "metadata": {},
   "outputs": [],
   "source": [
    "fq = df_36.groupby('emptitle').size()/len(df_36)  \n",
    "df_36.loc[:, \"{}_freq_encode\".format('emptitle')] = df_36['emptitle'].map(fq) "
   ]
  },
  {
   "cell_type": "code",
   "execution_count": 101,
   "metadata": {},
   "outputs": [],
   "source": [
    "fq = df_36.groupby('addrstate').size()/len(df_36)  \n",
    "df_36.loc[:, \"{}_freq_encode\".format('addrstate')] = df_36['addrstate'].map(fq) "
   ]
  },
  {
   "cell_type": "code",
   "execution_count": null,
   "metadata": {},
   "outputs": [],
   "source": [
    "# fillna\n",
    "df_36['emptitle_freq_encode'] = df_36['emptitle_freq_encode'].fillna(value=0)"
   ]
  },
  {
   "cell_type": "code",
   "execution_count": 139,
   "metadata": {},
   "outputs": [],
   "source": [
    "# combine data\n",
    "dfcat2=df_36[['zipcode_freq_encode','emptitle_freq_encode','addrstate_freq_encode']]"
   ]
  },
  {
   "cell_type": "code",
   "execution_count": 106,
   "metadata": {},
   "outputs": [],
   "source": [
    "dfnum = df_36[num_data]\n",
    "dfnum=dfnum.fillna(0)"
   ]
  },
  {
   "cell_type": "code",
   "execution_count": 246,
   "metadata": {},
   "outputs": [],
   "source": [
    "df_all = pd.concat([dfcat1,dfcat2,dfnum], axis = 1)"
   ]
  },
  {
   "cell_type": "code",
   "execution_count": 247,
   "metadata": {},
   "outputs": [],
   "source": [
    "X=df_all.columns\n",
    "y = df_36['loanstatus']\n",
    "df_data = pd.concat([df_all,y], axis = 1)"
   ]
  },
  {
   "cell_type": "code",
   "execution_count": 142,
   "metadata": {},
   "outputs": [
    {
     "data": {
      "text/plain": [
       "(257776, 169)"
      ]
     },
     "execution_count": 142,
     "metadata": {},
     "output_type": "execute_result"
    }
   ],
   "source": [
    "df_data.shape"
   ]
  },
  {
   "cell_type": "code",
   "execution_count": 143,
   "metadata": {},
   "outputs": [],
   "source": [
    "from sklearn.model_selection import train_test_split\n",
    "X_train, X_test, y_train, y_test = train_test_split(df_data[X], y,test_size=0.3, random_state=42, stratify = y)"
   ]
  },
  {
   "cell_type": "markdown",
   "metadata": {},
   "source": [
    "## Modeling"
   ]
  },
  {
   "cell_type": "code",
   "execution_count": 122,
   "metadata": {},
   "outputs": [],
   "source": [
    "from sklearn.model_selection import StratifiedKFold\n",
    "from sklearn.ensemble import RandomForestClassifier, GradientBoostingClassifier\n",
    "from sklearn.tree import DecisionTreeClassifier\n",
    "from sklearn.metrics import roc_auc_score, accuracy_score, precision_score, recall_score, confusion_matrix"
   ]
  },
  {
   "cell_type": "code",
   "execution_count": 123,
   "metadata": {},
   "outputs": [],
   "source": [
    "dt = DecisionTreeClassifier(max_depth = 10,random_state = 42)\n",
    "rf = RandomForestClassifier(max_depth = 10,random_state = 42)\n",
    "gbc = GradientBoostingClassifier(n_estimators=100, learning_rate=1.0, max_depth=3, random_state=42)"
   ]
  },
  {
   "cell_type": "code",
   "execution_count": 145,
   "metadata": {},
   "outputs": [],
   "source": [
    "dt = DecisionTreeClassifier(max_depth = 10,random_state = 42)\n",
    "dt.fit(X_train,y_train)\n",
    "dt_pred=dt.predict(X_test)"
   ]
  },
  {
   "cell_type": "code",
   "execution_count": 146,
   "metadata": {},
   "outputs": [],
   "source": [
    "rf = RandomForestClassifier(max_depth = 10,random_state = 42)\n",
    "rf.fit(X_train,y_train)\n",
    "rf_pred=rf.predict(X_test)"
   ]
  },
  {
   "cell_type": "code",
   "execution_count": 148,
   "metadata": {},
   "outputs": [],
   "source": [
    "gbc = GradientBoostingClassifier(n_estimators=100, learning_rate=1.0, max_depth=3, random_state=42)\n",
    "gbc.fit(X_train,y_train)\n",
    "gbc_pred=gbc.predict(X_test)"
   ]
  },
  {
   "cell_type": "code",
   "execution_count": 159,
   "metadata": {},
   "outputs": [
    {
     "name": "stdout",
     "output_type": "stream",
     "text": [
      "DecisionTree\n",
      "accuracy_score is  0.8250552804106914\n",
      "recall_score is  0.04737328608843013\n",
      "precision_score is  0.34608891389983115\n",
      "--------------------------------------------------------\n",
      "RandomForest\n",
      "accuracy_score is  0.8321285867611499\n",
      "recall_score is  0.0\n",
      "precision_score is  0.0\n",
      "--------------------------------------------------------\n",
      "GradientBoosting\n",
      "accuracy_score is  0.8275251186427528\n",
      "recall_score is  0.07803112001232476\n",
      "precision_score is  0.42527287993282953\n"
     ]
    }
   ],
   "source": [
    "print('DecisionTree')\n",
    "print('accuracy_score is ',accuracy_score(y_test,dt_pred))\n",
    "print('recall_score is ',recall_score(y_test,dt_pred))\n",
    "print('precision_score is ',precision_score(y_test,dt_pred))\n",
    "print(\"--------------------------------------------------------\")\n",
    "print('RandomForest')\n",
    "print('accuracy_score is ',accuracy_score(y_test,rf_pred))\n",
    "print('recall_score is ',recall_score(y_test,rf_pred))\n",
    "print('precision_score is ',precision_score(y_test,rf_pred))\n",
    "print(\"--------------------------------------------------------\")\n",
    "print('GradientBoosting')\n",
    "print('accuracy_score is ',accuracy_score(y_test,gbc_pred))\n",
    "print('recall_score is ',recall_score(y_test,gbc_pred))\n",
    "print('precision_score is ',precision_score(y_test,gbc_pred))\n"
   ]
  },
  {
   "cell_type": "code",
   "execution_count": 160,
   "metadata": {},
   "outputs": [
    {
     "data": {
      "image/png": "[encoded data removed]",
      "text/plain": [
       "<Figure size 432x288 with 1 Axes>"
      ]
     },
     "metadata": {
      "needs_background": "light"
     },
     "output_type": "display_data"
    }
   ],
   "source": [
    "from sklearn.metrics import roc_curve\n",
    "#Predict probabilities\n",
    "prob_dt=dt.predict_proba(X_test)\n",
    "prob_dt = prob_dt[:, 1]\n",
    "prob_rf=rf.predict_proba(X_test)\n",
    "prob_rf = prob_rf[:, 1]\n",
    "prob_gbc=gbc.predict_proba(X_test)\n",
    "prob_gbc = prob_gbc[:, 1]\n",
    "\n",
    "\n",
    "dt_fpr, dt_tpr, _ = roc_curve(y_test, prob_dt)\n",
    "rf_fpr, rf_tpr, _ = roc_curve(y_test, prob_rf)\n",
    "gbc_fpr, gbc_tpr, _ = roc_curve(y_test, prob_gbc)\n",
    "\n",
    "plt.plot(dt_fpr, dt_tpr,  label='DecisionTree')\n",
    "plt.plot(rf_fpr, rf_tpr,  label='RandomForest')\n",
    "plt.plot(gbc_fpr, gbc_tpr, label='GradientBoosting')\n",
    "plt.legend()\n",
    "plt.show()"
   ]
  },
  {
   "cell_type": "markdown",
   "metadata": {},
   "source": [
    "GradientBoosting fits better here"
   ]
  },
  {
   "cell_type": "markdown",
   "metadata": {},
   "source": [
    "### With XGBoost"
   ]
  },
  {
   "cell_type": "code",
   "execution_count": 173,
   "metadata": {},
   "outputs": [],
   "source": [
    "import xgboost as xgb"
   ]
  },
  {
   "cell_type": "code",
   "execution_count": 174,
   "metadata": {},
   "outputs": [],
   "source": [
    "from xgboost import XGBClassifier\n",
    "xgbc= XGBClassifier()\n",
    "xgbc.fit(X_train, y_train)\n",
    "xgbc_pred = xgbc.predict(X_test)"
   ]
  },
  {
   "cell_type": "code",
   "execution_count": 175,
   "metadata": {},
   "outputs": [
    {
     "name": "stdout",
     "output_type": "stream",
     "text": [
      "XGBoost\n",
      "accuracy_score is  0.8328915210841425\n",
      "recall_score is  0.012940995224156525\n",
      "precision_score is  0.6064981949458483\n"
     ]
    }
   ],
   "source": [
    "print('XGBoost')\n",
    "print('accuracy_score is ',accuracy_score(y_test,xgbc_pred))\n",
    "print('recall_score is ',recall_score(y_test,xgbc_pred))\n",
    "print('precision_score is ',precision_score(y_test,xgbc_pred))"
   ]
  },
  {
   "cell_type": "code",
   "execution_count": 176,
   "metadata": {},
   "outputs": [
    {
     "data": {
      "image/png": "[encoded data removed]",
      "text/plain": [
       "<Figure size 432x288 with 1 Axes>"
      ]
     },
     "metadata": {
      "needs_background": "light"
     },
     "output_type": "display_data"
    }
   ],
   "source": [
    "prob_xg=xgbc.predict_proba(X_test)\n",
    "prob_xg = prob_xg[:, 1]\n",
    "xg_fpr, xg_tpr, _ = roc_curve(y_test, prob_xg)\n",
    "plt.plot(xg_fpr, xg_tpr, label='XGBoost')\n",
    "plt.legend()\n",
    "plt.show()"
   ]
  },
  {
   "cell_type": "markdown",
   "metadata": {},
   "source": [
    "With validation"
   ]
  },
  {
   "cell_type": "code",
   "execution_count": 270,
   "metadata": {},
   "outputs": [],
   "source": [
    "X_train1, X_test1, y_train1, y_test1= train_test_split(df_data[X], y, test_size=0.7, random_state=42)\n",
    "\n",
    "X_train1, X_val1, y_train1, y_val1= train_test_split(X_train1, y_train1, test_size=0.5, random_state=42)"
   ]
  },
  {
   "cell_type": "code",
   "execution_count": 183,
   "metadata": {},
   "outputs": [],
   "source": [
    "dtrain = xgb.DMatrix(X_train1, y_train1, missing = np.NAN)\n",
    "dvalid = xgb.DMatrix(X_val1, y_val1, missing = np.NAN)\n",
    "dtest = xgb.DMatrix(X_test1, y_test1, missing = np.NAN)"
   ]
  },
  {
   "cell_type": "code",
   "execution_count": 184,
   "metadata": {},
   "outputs": [],
   "source": [
    "params = {\"objective\": \"binary:logistic\", \n",
    "          \"booster\" : \"gbtree\", \n",
    "          \"eta\": 0.05, \n",
    "          \"max_depth\": 6, \n",
    "          \"subsample\": 0.6, \n",
    "          \"colsample_bytree\": 0.7,\n",
    "          #\"colsample_bylevel\": 0.6,\n",
    "          \"silent\": 1, \n",
    "          \"seed\": 1234, \n",
    "          \"eval_metric\": \"auc\",\n",
    "          #\"gamma\": 1, \n",
    "          \"min_child_weight\": 5} "
   ]
  },
  {
   "cell_type": "code",
   "execution_count": 185,
   "metadata": {},
   "outputs": [
    {
     "name": "stdout",
     "output_type": "stream",
     "text": [
      "[0]\ttrain-auc:0.685956\teval-auc:0.664634\n",
      "Multiple eval metrics have been passed: 'eval-auc' will be used for early stopping.\n",
      "\n",
      "Will train until eval-auc hasn't improved in 50 rounds.\n",
      "[1]\ttrain-auc:0.692638\teval-auc:0.673521\n",
      "[2]\ttrain-auc:0.70523\teval-auc:0.677836\n",
      "[3]\ttrain-auc:0.710128\teval-auc:0.683586\n",
      "[4]\ttrain-auc:0.71522\teval-auc:0.683543\n",
      "[5]\ttrain-auc:0.717124\teval-auc:0.685027\n",
      "[6]\ttrain-auc:0.719052\teval-auc:0.687529\n",
      "[7]\ttrain-auc:0.721391\teval-auc:0.688058\n",
      "[8]\ttrain-auc:0.723195\teval-auc:0.689109\n",
      "[9]\ttrain-auc:0.726694\teval-auc:0.689771\n",
      "[10]\ttrain-auc:0.728606\teval-auc:0.691376\n",
      "[11]\ttrain-auc:0.72891\teval-auc:0.692035\n",
      "[12]\ttrain-auc:0.729051\teval-auc:0.692185\n",
      "[13]\ttrain-auc:0.729479\teval-auc:0.693262\n",
      "[14]\ttrain-auc:0.730009\teval-auc:0.693915\n",
      "[15]\ttrain-auc:0.731137\teval-auc:0.694457\n",
      "[16]\ttrain-auc:0.732401\teval-auc:0.694887\n",
      "[17]\ttrain-auc:0.734605\teval-auc:0.695836\n",
      "[18]\ttrain-auc:0.735238\teval-auc:0.696131\n",
      "[19]\ttrain-auc:0.73604\teval-auc:0.696237\n",
      "[20]\ttrain-auc:0.737658\teval-auc:0.696838\n",
      "[21]\ttrain-auc:0.738365\teval-auc:0.696727\n",
      "[22]\ttrain-auc:0.738351\teval-auc:0.696578\n",
      "[23]\ttrain-auc:0.739483\teval-auc:0.697217\n",
      "[24]\ttrain-auc:0.740178\teval-auc:0.697714\n",
      "[25]\ttrain-auc:0.74071\teval-auc:0.698239\n",
      "[26]\ttrain-auc:0.742316\teval-auc:0.69834\n",
      "[27]\ttrain-auc:0.744389\teval-auc:0.69874\n",
      "[28]\ttrain-auc:0.745221\teval-auc:0.699074\n",
      "[29]\ttrain-auc:0.745371\teval-auc:0.699395\n",
      "[30]\ttrain-auc:0.745885\teval-auc:0.699495\n",
      "[31]\ttrain-auc:0.746062\teval-auc:0.699596\n",
      "[32]\ttrain-auc:0.747295\teval-auc:0.699938\n",
      "[33]\ttrain-auc:0.748749\teval-auc:0.700355\n",
      "[34]\ttrain-auc:0.749435\teval-auc:0.700866\n",
      "[35]\ttrain-auc:0.750438\teval-auc:0.701237\n",
      "[36]\ttrain-auc:0.751234\teval-auc:0.701309\n",
      "[37]\ttrain-auc:0.752703\teval-auc:0.701358\n",
      "[38]\ttrain-auc:0.753433\teval-auc:0.701707\n",
      "[39]\ttrain-auc:0.754223\teval-auc:0.701955\n",
      "[40]\ttrain-auc:0.754628\teval-auc:0.70197\n",
      "[41]\ttrain-auc:0.755345\teval-auc:0.702069\n",
      "[42]\ttrain-auc:0.75644\teval-auc:0.702237\n",
      "[43]\ttrain-auc:0.756903\teval-auc:0.702468\n",
      "[44]\ttrain-auc:0.757707\teval-auc:0.702722\n",
      "[45]\ttrain-auc:0.758618\teval-auc:0.702679\n",
      "[46]\ttrain-auc:0.7598\teval-auc:0.703074\n",
      "[47]\ttrain-auc:0.760587\teval-auc:0.703361\n",
      "[48]\ttrain-auc:0.761118\teval-auc:0.703423\n",
      "[49]\ttrain-auc:0.761725\teval-auc:0.703629\n",
      "[50]\ttrain-auc:0.762638\teval-auc:0.703635\n",
      "[51]\ttrain-auc:0.763106\teval-auc:0.70358\n",
      "[52]\ttrain-auc:0.763983\teval-auc:0.703519\n",
      "[53]\ttrain-auc:0.764365\teval-auc:0.703486\n",
      "[54]\ttrain-auc:0.764856\teval-auc:0.703533\n",
      "[55]\ttrain-auc:0.765719\teval-auc:0.703534\n",
      "[56]\ttrain-auc:0.766131\teval-auc:0.703499\n",
      "[57]\ttrain-auc:0.766896\teval-auc:0.703594\n",
      "[58]\ttrain-auc:0.76781\teval-auc:0.703687\n",
      "[59]\ttrain-auc:0.76849\teval-auc:0.703819\n",
      "[60]\ttrain-auc:0.769214\teval-auc:0.703937\n",
      "[61]\ttrain-auc:0.76997\teval-auc:0.70404\n",
      "[62]\ttrain-auc:0.770478\teval-auc:0.70439\n",
      "[63]\ttrain-auc:0.771035\teval-auc:0.704419\n",
      "[64]\ttrain-auc:0.771616\teval-auc:0.704685\n",
      "[65]\ttrain-auc:0.772417\teval-auc:0.704718\n",
      "[66]\ttrain-auc:0.773132\teval-auc:0.704974\n",
      "[67]\ttrain-auc:0.77395\teval-auc:0.704871\n",
      "[68]\ttrain-auc:0.775109\teval-auc:0.704753\n",
      "[69]\ttrain-auc:0.775668\teval-auc:0.704665\n",
      "[70]\ttrain-auc:0.776911\teval-auc:0.7049\n",
      "[71]\ttrain-auc:0.777745\teval-auc:0.705061\n",
      "[72]\ttrain-auc:0.778555\teval-auc:0.704913\n",
      "[73]\ttrain-auc:0.779093\teval-auc:0.704955\n",
      "[74]\ttrain-auc:0.779478\teval-auc:0.705158\n",
      "[75]\ttrain-auc:0.779965\teval-auc:0.705316\n",
      "[76]\ttrain-auc:0.780344\teval-auc:0.705398\n",
      "[77]\ttrain-auc:0.781198\teval-auc:0.705599\n",
      "[78]\ttrain-auc:0.782179\teval-auc:0.705752\n",
      "[79]\ttrain-auc:0.782917\teval-auc:0.705803\n",
      "[80]\ttrain-auc:0.78348\teval-auc:0.705858\n",
      "[81]\ttrain-auc:0.784129\teval-auc:0.706201\n",
      "[82]\ttrain-auc:0.785081\teval-auc:0.706389\n",
      "[83]\ttrain-auc:0.785743\teval-auc:0.706514\n",
      "[84]\ttrain-auc:0.78591\teval-auc:0.706443\n",
      "[85]\ttrain-auc:0.786155\teval-auc:0.706525\n",
      "[86]\ttrain-auc:0.786896\teval-auc:0.706491\n",
      "[87]\ttrain-auc:0.787376\teval-auc:0.70651\n",
      "[88]\ttrain-auc:0.787829\teval-auc:0.70666\n",
      "[89]\ttrain-auc:0.788136\teval-auc:0.706806\n",
      "[90]\ttrain-auc:0.789212\teval-auc:0.706848\n",
      "[91]\ttrain-auc:0.790475\teval-auc:0.706952\n",
      "[92]\ttrain-auc:0.791067\teval-auc:0.706985\n",
      "[93]\ttrain-auc:0.791498\teval-auc:0.706928\n",
      "[94]\ttrain-auc:0.792024\teval-auc:0.706847\n",
      "[95]\ttrain-auc:0.792321\teval-auc:0.706795\n",
      "[96]\ttrain-auc:0.792762\teval-auc:0.706758\n",
      "[97]\ttrain-auc:0.793471\teval-auc:0.706682\n",
      "[98]\ttrain-auc:0.794137\teval-auc:0.706663\n",
      "[99]\ttrain-auc:0.794234\teval-auc:0.706607\n",
      "[100]\ttrain-auc:0.79467\teval-auc:0.706547\n",
      "[101]\ttrain-auc:0.795567\teval-auc:0.706622\n",
      "[102]\ttrain-auc:0.796307\teval-auc:0.70664\n",
      "[103]\ttrain-auc:0.796582\teval-auc:0.706668\n",
      "[104]\ttrain-auc:0.797077\teval-auc:0.706718\n",
      "[105]\ttrain-auc:0.798064\teval-auc:0.706674\n",
      "[106]\ttrain-auc:0.79864\teval-auc:0.706815\n",
      "[107]\ttrain-auc:0.799109\teval-auc:0.706845\n",
      "[108]\ttrain-auc:0.799627\teval-auc:0.706811\n",
      "[109]\ttrain-auc:0.799879\teval-auc:0.706828\n",
      "[110]\ttrain-auc:0.800236\teval-auc:0.706873\n",
      "[111]\ttrain-auc:0.801228\teval-auc:0.707036\n",
      "[112]\ttrain-auc:0.801553\teval-auc:0.707117\n",
      "[113]\ttrain-auc:0.802192\teval-auc:0.707149\n",
      "[114]\ttrain-auc:0.802801\teval-auc:0.707159\n",
      "[115]\ttrain-auc:0.803302\teval-auc:0.707261\n",
      "[116]\ttrain-auc:0.803539\teval-auc:0.707301\n",
      "[117]\ttrain-auc:0.803938\teval-auc:0.707317\n",
      "[118]\ttrain-auc:0.804611\teval-auc:0.707315\n",
      "[119]\ttrain-auc:0.804988\teval-auc:0.70729\n",
      "[120]\ttrain-auc:0.805405\teval-auc:0.707253\n",
      "[121]\ttrain-auc:0.806292\teval-auc:0.707156\n",
      "[122]\ttrain-auc:0.806577\teval-auc:0.70705\n",
      "[123]\ttrain-auc:0.80721\teval-auc:0.707038\n",
      "[124]\ttrain-auc:0.807941\teval-auc:0.706998\n",
      "[125]\ttrain-auc:0.808375\teval-auc:0.707063\n",
      "[126]\ttrain-auc:0.809105\teval-auc:0.707134\n",
      "[127]\ttrain-auc:0.809668\teval-auc:0.707021\n",
      "[128]\ttrain-auc:0.810064\teval-auc:0.707086\n",
      "[129]\ttrain-auc:0.810537\teval-auc:0.707112\n",
      "[130]\ttrain-auc:0.810722\teval-auc:0.707096\n",
      "[131]\ttrain-auc:0.811182\teval-auc:0.707205\n",
      "[132]\ttrain-auc:0.811538\teval-auc:0.707344\n",
      "[133]\ttrain-auc:0.812065\teval-auc:0.707377\n",
      "[134]\ttrain-auc:0.812652\teval-auc:0.707491\n",
      "[135]\ttrain-auc:0.813111\teval-auc:0.707497\n",
      "[136]\ttrain-auc:0.813478\teval-auc:0.707362\n",
      "[137]\ttrain-auc:0.813694\teval-auc:0.707404\n",
      "[138]\ttrain-auc:0.814078\teval-auc:0.707437\n",
      "[139]\ttrain-auc:0.814824\teval-auc:0.707337\n",
      "[140]\ttrain-auc:0.814929\teval-auc:0.707405\n",
      "[141]\ttrain-auc:0.815308\teval-auc:0.707521\n",
      "[142]\ttrain-auc:0.815984\teval-auc:0.707539\n",
      "[143]\ttrain-auc:0.816054\teval-auc:0.707515\n",
      "[144]\ttrain-auc:0.816422\teval-auc:0.70752\n",
      "[145]\ttrain-auc:0.817154\teval-auc:0.70759\n",
      "[146]\ttrain-auc:0.817519\teval-auc:0.707657\n",
      "[147]\ttrain-auc:0.817804\teval-auc:0.707583\n",
      "[148]\ttrain-auc:0.81803\teval-auc:0.707594\n",
      "[149]\ttrain-auc:0.818456\teval-auc:0.707525\n",
      "[150]\ttrain-auc:0.818879\teval-auc:0.707554\n",
      "[151]\ttrain-auc:0.819413\teval-auc:0.707516\n",
      "[152]\ttrain-auc:0.820084\teval-auc:0.707533\n",
      "[153]\ttrain-auc:0.820634\teval-auc:0.707595\n",
      "[154]\ttrain-auc:0.821128\teval-auc:0.707618\n",
      "[155]\ttrain-auc:0.82146\teval-auc:0.707582\n",
      "[156]\ttrain-auc:0.822188\teval-auc:0.707545\n",
      "[157]\ttrain-auc:0.822484\teval-auc:0.707506\n",
      "[158]\ttrain-auc:0.823163\teval-auc:0.707481\n",
      "[159]\ttrain-auc:0.823576\teval-auc:0.707542\n",
      "[160]\ttrain-auc:0.823878\teval-auc:0.707483\n",
      "[161]\ttrain-auc:0.824051\teval-auc:0.707544\n",
      "[162]\ttrain-auc:0.824548\teval-auc:0.707576\n",
      "[163]\ttrain-auc:0.824809\teval-auc:0.707693\n",
      "[164]\ttrain-auc:0.825122\teval-auc:0.707788\n",
      "[165]\ttrain-auc:0.825486\teval-auc:0.707826\n",
      "[166]\ttrain-auc:0.825869\teval-auc:0.707793\n",
      "[167]\ttrain-auc:0.826377\teval-auc:0.707725\n",
      "[168]\ttrain-auc:0.826897\teval-auc:0.707765\n",
      "[169]\ttrain-auc:0.827126\teval-auc:0.707836\n",
      "[170]\ttrain-auc:0.827642\teval-auc:0.707761\n",
      "[171]\ttrain-auc:0.827964\teval-auc:0.707737\n",
      "[172]\ttrain-auc:0.828647\teval-auc:0.707719\n",
      "[173]\ttrain-auc:0.82894\teval-auc:0.707731\n",
      "[174]\ttrain-auc:0.829244\teval-auc:0.70775\n",
      "[175]\ttrain-auc:0.829441\teval-auc:0.707707\n",
      "[176]\ttrain-auc:0.829795\teval-auc:0.707648\n",
      "[177]\ttrain-auc:0.829991\teval-auc:0.707663\n",
      "[178]\ttrain-auc:0.830204\teval-auc:0.707647\n",
      "[179]\ttrain-auc:0.830758\teval-auc:0.707606\n",
      "[180]\ttrain-auc:0.830954\teval-auc:0.707642\n",
      "[181]\ttrain-auc:0.831609\teval-auc:0.707592\n",
      "[182]\ttrain-auc:0.832107\teval-auc:0.707571\n",
      "[183]\ttrain-auc:0.8323\teval-auc:0.707527\n",
      "[184]\ttrain-auc:0.832846\teval-auc:0.707581\n",
      "[185]\ttrain-auc:0.833673\teval-auc:0.707445\n",
      "[186]\ttrain-auc:0.834137\teval-auc:0.707361\n",
      "[187]\ttrain-auc:0.834342\teval-auc:0.707334\n",
      "[188]\ttrain-auc:0.834999\teval-auc:0.707483\n",
      "[189]\ttrain-auc:0.835743\teval-auc:0.707559\n",
      "[190]\ttrain-auc:0.836304\teval-auc:0.707527\n"
     ]
    },
    {
     "name": "stdout",
     "output_type": "stream",
     "text": [
      "[191]\ttrain-auc:0.836707\teval-auc:0.707482\n",
      "[192]\ttrain-auc:0.837079\teval-auc:0.707501\n",
      "[193]\ttrain-auc:0.837256\teval-auc:0.707441\n",
      "[194]\ttrain-auc:0.837576\teval-auc:0.707501\n",
      "[195]\ttrain-auc:0.838328\teval-auc:0.70737\n",
      "[196]\ttrain-auc:0.839052\teval-auc:0.707391\n",
      "[197]\ttrain-auc:0.8392\teval-auc:0.707468\n",
      "[198]\ttrain-auc:0.839369\teval-auc:0.707568\n",
      "[199]\ttrain-auc:0.839495\teval-auc:0.707596\n",
      "[200]\ttrain-auc:0.839842\teval-auc:0.707669\n",
      "[201]\ttrain-auc:0.840501\teval-auc:0.707581\n",
      "[202]\ttrain-auc:0.840741\teval-auc:0.707571\n",
      "[203]\ttrain-auc:0.841367\teval-auc:0.707527\n",
      "[204]\ttrain-auc:0.841681\teval-auc:0.70762\n",
      "[205]\ttrain-auc:0.841995\teval-auc:0.707605\n",
      "[206]\ttrain-auc:0.842603\teval-auc:0.70769\n",
      "[207]\ttrain-auc:0.84313\teval-auc:0.707721\n",
      "[208]\ttrain-auc:0.843774\teval-auc:0.707795\n",
      "[209]\ttrain-auc:0.843974\teval-auc:0.70771\n",
      "[210]\ttrain-auc:0.844265\teval-auc:0.70765\n",
      "[211]\ttrain-auc:0.844408\teval-auc:0.70756\n",
      "[212]\ttrain-auc:0.844504\teval-auc:0.707534\n",
      "[213]\ttrain-auc:0.844735\teval-auc:0.707526\n",
      "[214]\ttrain-auc:0.844869\teval-auc:0.707522\n",
      "[215]\ttrain-auc:0.845031\teval-auc:0.707607\n",
      "[216]\ttrain-auc:0.845432\teval-auc:0.7076\n",
      "[217]\ttrain-auc:0.845787\teval-auc:0.707627\n",
      "[218]\ttrain-auc:0.846611\teval-auc:0.707801\n",
      "[219]\ttrain-auc:0.84678\teval-auc:0.707723\n",
      "Stopping. Best iteration:\n",
      "[169]\ttrain-auc:0.827126\teval-auc:0.707836\n",
      "\n"
     ]
    }
   ],
   "source": [
    "watchlist = [(dtrain, 'train'), (dvalid, 'eval')]\n",
    "num_boost_round = 1500\n",
    "gbm = xgb.train(params, dtrain, num_boost_round, evals=watchlist,\\\n",
    "  early_stopping_rounds= 50)"
   ]
  },
  {
   "cell_type": "code",
   "execution_count": 189,
   "metadata": {},
   "outputs": [],
   "source": [
    "from sklearn.metrics import roc_curve, auc\n",
    "from sklearn import linear_model, datasets\n",
    "import pylab as pl\n",
    "def draw_ROC(model, dtrain, dvalid, dtest, y_train1, y_val1, y_test1 ):\n",
    "    probas_ = model.predict(dvalid, ntree_limit=model.best_ntree_limit)\n",
    "    probas_1 = model.predict(dtrain, ntree_limit=model.best_ntree_limit)\n",
    "    probas_2 = model.predict(dtest, ntree_limit=model.best_ntree_limit)\n",
    "    fpr, tpr, thresholds = roc_curve(y_val1, probas_)\n",
    "    fpr_1, tpr_1, thresholds_1 = roc_curve(y_train1, probas_1)\n",
    "    fpr_2, tpr_2, thresholds_2 = roc_curve(y_test1, probas_2)\n",
    "    roc_auc = auc(fpr, tpr)\n",
    "    roc_auc_1 = auc(fpr_1, tpr_1)\n",
    "    roc_auc_2 = auc(fpr_2, tpr_2)\n",
    "    print (\"Area under the ROC curve - validation: %f\" % roc_auc)\n",
    "    print (\"Area under the ROC curve - train: %f\" % roc_auc_1)\n",
    "    print (\"Area under the ROC curve - test: %f\" % roc_auc_2)\n",
    "    # Plot ROC curve\n",
    "    plt.figure(figsize=(8,8))\n",
    "    plt.plot(fpr, tpr, label='ROC curve - valid(AUC = %0.2f)' % roc_auc, color='r')\n",
    "    plt.plot(fpr_1, tpr_1, label='ROC curve - train (AUC = %0.2f)' % roc_auc_1, color='b')\n",
    "    plt.plot(fpr_2, tpr_2, label='ROC curve - test (AUC = %0.2f)' % roc_auc_2, color='g')\n",
    "    plt.plot([0, 1], [0, 1], 'k--')\n",
    "    plt.xlim([0.0, 1.0])\n",
    "    plt.ylim([0.0, 1.0])\n",
    "    plt.xlabel('False Positive Rate')\n",
    "    plt.ylabel('True Positive Rate')\n",
    "    plt.title('ROC for lead score model')\n",
    "    plt.legend(loc=\"lower right\")\n",
    "    plt.show()"
   ]
  },
  {
   "cell_type": "code",
   "execution_count": 190,
   "metadata": {
    "scrolled": false
   },
   "outputs": [
    {
     "name": "stdout",
     "output_type": "stream",
     "text": [
      "Area under the ROC curve - validation: 0.707836\n",
      "Area under the ROC curve - train: 0.827126\n",
      "Area under the ROC curve - test: 0.704576\n"
     ]
    },
    {
     "data": {
      "image/png": "[encoded data removed]",
      "text/plain": [
       "<Figure size 576x576 with 1 Axes>"
      ]
     },
     "metadata": {
      "needs_background": "light"
     },
     "output_type": "display_data"
    }
   ],
   "source": [
    "draw_ROC(gbm, dtrain, dvalid, dtest, y_train1, y_val1, y_test1)"
   ]
  },
  {
   "cell_type": "markdown",
   "metadata": {},
   "source": [
    "Feature importance"
   ]
  },
  {
   "cell_type": "code",
   "execution_count": 194,
   "metadata": {},
   "outputs": [],
   "source": [
    "def get_xgb_imp(xgb, feat_names):\n",
    "    imp_vals = gbm.get_fscore()\n",
    "    feats_imp = pd.DataFrame(imp_vals,index=np.arange(2)).T\n",
    "    feats_imp.iloc[:,0]= feats_imp.index    \n",
    "    feats_imp.columns=['feature','importance']\n",
    "    feats_imp.sort_values('importance',inplace=True,ascending=False)\n",
    "    feats_imp.reset_index(drop=True,inplace=True)\n",
    "    return feats_imp\n",
    "\n",
    "feature_importance_df = get_xgb_imp(xgb, list(df_all))"
   ]
  },
  {
   "cell_type": "code",
   "execution_count": 209,
   "metadata": {},
   "outputs": [],
   "source": [
    "feature_importance_df['fscore'] = feature_importance_df['importance'] / feature_importance_df['importance'].sum()\n",
    "feature_importance_df.sort_values(['fscore'], ascending=False, inplace=True)\n",
    "feature_importance_df=feature_importance_df.drop(['importance'], axis=1)"
   ]
  },
  {
   "cell_type": "code",
   "execution_count": 238,
   "metadata": {},
   "outputs": [
    {
     "data": {
      "text/plain": [
       "[Text(0, 0, 'installment'),\n",
       " Text(0, 0, 'dti'),\n",
       " Text(0, 0, 'intrate'),\n",
       " Text(0, 0, 'mosinoldrevtlop'),\n",
       " Text(0, 0, 'annualinc'),\n",
       " Text(0, 0, 'avgcurbal'),\n",
       " Text(0, 0, 'bcutil'),\n",
       " Text(0, 0, 'totalrevhilim'),\n",
       " Text(0, 0, 'revolbal'),\n",
       " Text(0, 0, 'tothicredlim'),\n",
       " Text(0, 0, 'maxbalbc'),\n",
       " Text(0, 0, 'zipcode_freq_encode'),\n",
       " Text(0, 0, 'emptitle_freq_encode'),\n",
       " Text(0, 0, 'mosinoldilacct'),\n",
       " Text(0, 0, 'earliestcrline_new'),\n",
       " Text(0, 0, 'bcopentobuy'),\n",
       " Text(0, 0, 'totcurbal'),\n",
       " Text(0, 0, 'totalbclimit'),\n",
       " Text(0, 0, 'totalbalexmort'),\n",
       " Text(0, 0, 'loanamnt')]"
      ]
     },
     "execution_count": 238,
     "metadata": {},
     "output_type": "execute_result"
    },
    {
     "data": {
      "image/png": "[encoded data removed]",
      "text/plain": [
       "<Figure size 720x576 with 1 Axes>"
      ]
     },
     "metadata": {
      "needs_background": "light"
     },
     "output_type": "display_data"
    }
   ],
   "source": [
    "df_imp_plt=feature_importance_df[:20]\n",
    "fig, ax = plt.subplots()\n",
    "df_imp_plt.plot(ax=ax,xticks=df_imp_plt.index,kind='bar',figsize=(10,8))\n",
    "ax.set_xticklabels(df_imp_plt.feature)\n"
   ]
  },
  {
   "cell_type": "code",
   "execution_count": 236,
   "metadata": {},
   "outputs": [
    {
     "data": {
      "text/html": [
       "<div>\n",
       "<style scoped>\n",
       "    .dataframe tbody tr th:only-of-type {\n",
       "        vertical-align: middle;\n",
       "    }\n",
       "\n",
       "    .dataframe tbody tr th {\n",
       "        vertical-align: top;\n",
       "    }\n",
       "\n",
       "    .dataframe thead th {\n",
       "        text-align: right;\n",
       "    }\n",
       "</style>\n",
       "<table border=\"1\" class=\"dataframe\">\n",
       "  <thead>\n",
       "    <tr style=\"text-align: right;\">\n",
       "      <th></th>\n",
       "      <th>feature</th>\n",
       "      <th>fscore</th>\n",
       "    </tr>\n",
       "  </thead>\n",
       "  <tbody>\n",
       "    <tr>\n",
       "      <th>1</th>\n",
       "      <td>installment</td>\n",
       "      <td>0.037950</td>\n",
       "    </tr>\n",
       "    <tr>\n",
       "      <th>2</th>\n",
       "      <td>dti</td>\n",
       "      <td>0.035778</td>\n",
       "    </tr>\n",
       "    <tr>\n",
       "      <th>3</th>\n",
       "      <td>intrate</td>\n",
       "      <td>0.031050</td>\n",
       "    </tr>\n",
       "    <tr>\n",
       "      <th>4</th>\n",
       "      <td>mosinoldrevtlop</td>\n",
       "      <td>0.029261</td>\n",
       "    </tr>\n",
       "    <tr>\n",
       "      <th>5</th>\n",
       "      <td>annualinc</td>\n",
       "      <td>0.025939</td>\n",
       "    </tr>\n",
       "    <tr>\n",
       "      <th>6</th>\n",
       "      <td>avgcurbal</td>\n",
       "      <td>0.024917</td>\n",
       "    </tr>\n",
       "    <tr>\n",
       "      <th>7</th>\n",
       "      <td>bcutil</td>\n",
       "      <td>0.024661</td>\n",
       "    </tr>\n",
       "    <tr>\n",
       "      <th>8</th>\n",
       "      <td>totalrevhilim</td>\n",
       "      <td>0.022617</td>\n",
       "    </tr>\n",
       "    <tr>\n",
       "      <th>11</th>\n",
       "      <td>revolbal</td>\n",
       "      <td>0.022361</td>\n",
       "    </tr>\n",
       "    <tr>\n",
       "      <th>9</th>\n",
       "      <td>tothicredlim</td>\n",
       "      <td>0.022361</td>\n",
       "    </tr>\n",
       "    <tr>\n",
       "      <th>10</th>\n",
       "      <td>maxbalbc</td>\n",
       "      <td>0.022361</td>\n",
       "    </tr>\n",
       "    <tr>\n",
       "      <th>12</th>\n",
       "      <td>zipcode_freq_encode</td>\n",
       "      <td>0.021722</td>\n",
       "    </tr>\n",
       "    <tr>\n",
       "      <th>13</th>\n",
       "      <td>emptitle_freq_encode</td>\n",
       "      <td>0.021595</td>\n",
       "    </tr>\n",
       "    <tr>\n",
       "      <th>14</th>\n",
       "      <td>mosinoldilacct</td>\n",
       "      <td>0.020828</td>\n",
       "    </tr>\n",
       "    <tr>\n",
       "      <th>15</th>\n",
       "      <td>earliestcrline_new</td>\n",
       "      <td>0.020700</td>\n",
       "    </tr>\n",
       "    <tr>\n",
       "      <th>16</th>\n",
       "      <td>bcopentobuy</td>\n",
       "      <td>0.020445</td>\n",
       "    </tr>\n",
       "    <tr>\n",
       "      <th>17</th>\n",
       "      <td>totcurbal</td>\n",
       "      <td>0.020317</td>\n",
       "    </tr>\n",
       "    <tr>\n",
       "      <th>18</th>\n",
       "      <td>totalbclimit</td>\n",
       "      <td>0.019295</td>\n",
       "    </tr>\n",
       "    <tr>\n",
       "      <th>19</th>\n",
       "      <td>totalbalexmort</td>\n",
       "      <td>0.019167</td>\n",
       "    </tr>\n",
       "    <tr>\n",
       "      <th>20</th>\n",
       "      <td>loanamnt</td>\n",
       "      <td>0.018528</td>\n",
       "    </tr>\n",
       "  </tbody>\n",
       "</table>\n",
       "</div>"
      ],
      "text/plain": [
       "                 feature    fscore\n",
       "1            installment  0.037950\n",
       "2                    dti  0.035778\n",
       "3                intrate  0.031050\n",
       "4        mosinoldrevtlop  0.029261\n",
       "5              annualinc  0.025939\n",
       "6              avgcurbal  0.024917\n",
       "7                 bcutil  0.024661\n",
       "8          totalrevhilim  0.022617\n",
       "11              revolbal  0.022361\n",
       "9           tothicredlim  0.022361\n",
       "10              maxbalbc  0.022361\n",
       "12   zipcode_freq_encode  0.021722\n",
       "13  emptitle_freq_encode  0.021595\n",
       "14        mosinoldilacct  0.020828\n",
       "15    earliestcrline_new  0.020700\n",
       "16           bcopentobuy  0.020445\n",
       "17             totcurbal  0.020317\n",
       "18          totalbclimit  0.019295\n",
       "19        totalbalexmort  0.019167\n",
       "20              loanamnt  0.018528"
      ]
     },
     "execution_count": 236,
     "metadata": {},
     "output_type": "execute_result"
    }
   ],
   "source": [
    "df_imp_plt"
   ]
  },
  {
   "cell_type": "code",
   "execution_count": 239,
   "metadata": {},
   "outputs": [],
   "source": [
    "import pickle\n",
    "filename = 'gbm_model.sav'\n",
    "pickle.dump(gbm, open(filename, 'wb'))"
   ]
  },
  {
   "cell_type": "markdown",
   "metadata": {},
   "source": [
    "## Bayesian Optimization with XGBoost"
   ]
  },
  {
   "cell_type": "code",
   "execution_count": 298,
   "metadata": {},
   "outputs": [],
   "source": [
    "from bayes_opt import BayesianOptimization\n",
    "frame1 = [X_train1, X_val1]\n",
    "frame2 = [y_train1, y_val1]\n",
    "\n",
    "train_x = pd.concat(frame1)\n",
    "train_y = pd.concat(frame2)\n",
    "\n",
    "xgtrain = xgb.DMatrix(train_x, label=train_y, missing = np.NAN)  \n",
    "\n",
    "def xgb_evaluate(min_child_weight,\n",
    "                 colsample_bytree,\n",
    "                 max_depth,\n",
    "                 subsample,\n",
    "                 gamma):\n",
    "    params = dict()\n",
    "    params['objective'] = 'binary:logistic'\n",
    "    params['eta'] = 0.05\n",
    "    params['max_depth'] = int(max_depth )   \n",
    "    params['min_child_weight'] = int(min_child_weight)\n",
    "    params['colsample_bytree'] = colsample_bytree\n",
    "    params['subsample'] = subsample\n",
    "    params['gamma'] = gamma\n",
    "    params['verbose_eval'] = False \n",
    "\n",
    "\n",
    "\n",
    "    cv_result = xgb.cv(params, xgtrain,\n",
    "                       num_boost_round=500,\n",
    "                       nfold=3,\n",
    "                       metrics={'auc'},\n",
    "                       seed=1234\n",
    "                       )\n",
    "    print(cv_result)\n",
    "\n",
    "    return cv_result['test-auc-mean'].max()"
   ]
  },
  {
   "cell_type": "code",
   "execution_count": 299,
   "metadata": {},
   "outputs": [],
   "source": [
    "xgb_BO = BayesianOptimization(xgb_evaluate, \n",
    "                             {'max_depth': (4, 8),\n",
    "                              'min_child_weight': (0, 20),\n",
    "                              'colsample_bytree': (0.2, 0.8),\n",
    "                              'subsample': (0.5, 1),\n",
    "                              'gamma': (0, 1)\n",
    "                             }\n",
    "                            )\n"
   ]
  },
  {
   "cell_type": "code",
   "execution_count": 300,
   "metadata": {},
   "outputs": [
    {
     "name": "stdout",
     "output_type": "stream",
     "text": [
      "|   iter    |  target   | colsam... |   gamma   | max_depth | min_ch... | subsample |\n",
      "-------------------------------------------------------------------------------------\n",
      "     train-auc-mean  train-auc-std  test-auc-mean  test-auc-std\n",
      "0          0.677490       0.001029       0.671879      0.005042\n",
      "1          0.681417       0.001865       0.673520      0.004187\n",
      "2          0.684272       0.003112       0.674617      0.006746\n",
      "3          0.685855       0.002218       0.675011      0.005629\n",
      "4          0.686997       0.001991       0.677015      0.007375\n",
      "5          0.690329       0.001849       0.680262      0.006450\n",
      "6          0.689893       0.003390       0.679622      0.008613\n",
      "7          0.691439       0.001054       0.680977      0.007276\n",
      "8          0.692280       0.001070       0.682136      0.006815\n",
      "9          0.693569       0.001234       0.682579      0.006992\n",
      "10         0.694285       0.001809       0.682765      0.006815\n",
      "11         0.695331       0.001488       0.683512      0.005734\n",
      "12         0.695504       0.001651       0.683602      0.005911\n",
      "13         0.695726       0.001415       0.683530      0.006305\n",
      "14         0.696397       0.001519       0.684105      0.006116\n",
      "15         0.696842       0.000831       0.684681      0.005751\n",
      "16         0.697802       0.000468       0.685256      0.005479\n",
      "17         0.698105       0.000335       0.685304      0.005349\n",
      "18         0.698859       0.000508       0.685703      0.005313\n",
      "19         0.699258       0.000478       0.686574      0.005057\n",
      "20         0.699604       0.000094       0.686863      0.004971\n",
      "21         0.699677       0.000595       0.686832      0.004862\n",
      "22         0.700307       0.000352       0.687504      0.004584\n",
      "23         0.700702       0.000645       0.687726      0.004573\n",
      "24         0.701285       0.000384       0.687863      0.005042\n",
      "25         0.702143       0.000220       0.688267      0.004869\n",
      "26         0.702300       0.000676       0.688372      0.004856\n",
      "27         0.702304       0.000658       0.688200      0.005006\n",
      "28         0.702567       0.000777       0.688709      0.004695\n",
      "29         0.703024       0.000847       0.688928      0.004474\n",
      "..              ...            ...            ...           ...\n",
      "470        0.783515       0.001245       0.708616      0.002247\n",
      "471        0.783662       0.001308       0.708615      0.002281\n",
      "472        0.783768       0.001326       0.708599      0.002272\n",
      "473        0.783895       0.001350       0.708583      0.002232\n",
      "474        0.784052       0.001369       0.708573      0.002217\n",
      "475        0.784169       0.001307       0.708543      0.002199\n",
      "476        0.784254       0.001292       0.708555      0.002207\n",
      "477        0.784372       0.001352       0.708588      0.002192\n",
      "478        0.784505       0.001299       0.708556      0.002181\n",
      "479        0.784665       0.001357       0.708545      0.002185\n",
      "480        0.784821       0.001425       0.708528      0.002188\n",
      "481        0.784974       0.001406       0.708482      0.002214\n",
      "482        0.785094       0.001372       0.708483      0.002218\n",
      "483        0.785187       0.001367       0.708481      0.002196\n",
      "484        0.785281       0.001373       0.708476      0.002218\n",
      "485        0.785397       0.001335       0.708490      0.002195\n",
      "486        0.785553       0.001344       0.708507      0.002172\n",
      "487        0.785636       0.001303       0.708505      0.002157\n",
      "488        0.785775       0.001342       0.708519      0.002136\n",
      "489        0.785852       0.001340       0.708525      0.002129\n",
      "490        0.785998       0.001364       0.708499      0.002126\n",
      "491        0.786114       0.001420       0.708518      0.002111\n",
      "492        0.786192       0.001414       0.708519      0.002126\n",
      "493        0.786262       0.001413       0.708505      0.002161\n",
      "494        0.786382       0.001407       0.708517      0.002147\n",
      "495        0.786534       0.001387       0.708525      0.002162\n",
      "496        0.786601       0.001390       0.708522      0.002167\n",
      "497        0.786694       0.001403       0.708522      0.002191\n",
      "498        0.786762       0.001374       0.708545      0.002182\n",
      "499        0.786904       0.001424       0.708548      0.002201\n",
      "\n",
      "[500 rows x 4 columns]\n",
      "| \u001b[0m 1       \u001b[0m | \u001b[0m 0.7086  \u001b[0m | \u001b[0m 0.3614  \u001b[0m | \u001b[0m 0.7289  \u001b[0m | \u001b[0m 4.719   \u001b[0m | \u001b[0m 18.97   \u001b[0m | \u001b[0m 0.7485  \u001b[0m |\n",
      "     train-auc-mean  train-auc-std  test-auc-mean  test-auc-std\n",
      "0          0.680395       0.001772       0.671937      0.004568\n",
      "1          0.687015       0.001858       0.673775      0.003065\n",
      "2          0.691793       0.002194       0.676501      0.007541\n",
      "3          0.696395       0.001641       0.678488      0.007750\n",
      "4          0.698314       0.001254       0.678461      0.005489\n",
      "5          0.702023       0.002217       0.681632      0.003999\n",
      "6          0.702517       0.003551       0.682527      0.006579\n",
      "7          0.703634       0.002003       0.681999      0.006811\n",
      "8          0.704874       0.001537       0.683194      0.007125\n",
      "9          0.706258       0.001380       0.683635      0.006709\n",
      "10         0.707543       0.000905       0.684651      0.005945\n",
      "11         0.709021       0.000707       0.685774      0.005244\n",
      "12         0.709606       0.000173       0.685747      0.005155\n",
      "13         0.710187       0.000312       0.686023      0.005973\n",
      "14         0.710707       0.000556       0.685811      0.005925\n",
      "15         0.711166       0.000620       0.686886      0.005487\n",
      "16         0.712436       0.000775       0.687706      0.005156\n",
      "17         0.712969       0.000624       0.688114      0.004996\n",
      "18         0.713522       0.000354       0.687968      0.005218\n",
      "19         0.714201       0.000590       0.689299      0.004885\n",
      "20         0.714084       0.000399       0.689074      0.004963\n",
      "21         0.714541       0.000914       0.689038      0.005302\n",
      "22         0.715529       0.000454       0.689519      0.004911\n",
      "23         0.716245       0.000536       0.689626      0.004807\n",
      "24         0.716909       0.000233       0.689654      0.005045\n",
      "25         0.717756       0.000179       0.689970      0.004764\n",
      "26         0.717928       0.000563       0.689688      0.004535\n",
      "27         0.718317       0.000657       0.689748      0.004640\n",
      "28         0.718894       0.000761       0.690428      0.004170\n",
      "29         0.718913       0.000863       0.690356      0.004067\n",
      "..              ...            ...            ...           ...\n",
      "470        0.835263       0.002954       0.706371      0.002993\n",
      "471        0.835429       0.002946       0.706376      0.003031\n",
      "472        0.835566       0.002994       0.706386      0.003015\n",
      "473        0.835725       0.003047       0.706432      0.003032\n",
      "474        0.835940       0.003065       0.706440      0.003005\n",
      "475        0.836056       0.003072       0.706450      0.003029\n",
      "476        0.836213       0.003021       0.706468      0.003019\n",
      "477        0.836444       0.003017       0.706468      0.003004\n",
      "478        0.836577       0.002985       0.706498      0.002957\n",
      "479        0.836700       0.002987       0.706539      0.002943\n",
      "480        0.836845       0.002969       0.706529      0.002934\n",
      "481        0.837077       0.002877       0.706489      0.002962\n",
      "482        0.837289       0.002798       0.706478      0.003002\n",
      "483        0.837447       0.002753       0.706460      0.002986\n",
      "484        0.837614       0.002757       0.706456      0.003007\n",
      "485        0.837760       0.002730       0.706426      0.003020\n",
      "486        0.838055       0.002786       0.706454      0.003012\n",
      "487        0.838186       0.002786       0.706420      0.003014\n",
      "488        0.838345       0.002873       0.706417      0.002990\n",
      "489        0.838454       0.002831       0.706397      0.002994\n",
      "490        0.838551       0.002826       0.706371      0.002961\n",
      "491        0.838696       0.002881       0.706349      0.002966\n",
      "492        0.838799       0.002788       0.706348      0.002958\n",
      "493        0.838981       0.002837       0.706325      0.002934\n",
      "494        0.839103       0.002864       0.706311      0.002916\n",
      "495        0.839267       0.002814       0.706362      0.002891\n",
      "496        0.839337       0.002840       0.706384      0.002841\n",
      "497        0.839537       0.002778       0.706394      0.002855\n",
      "498        0.839745       0.002789       0.706402      0.002860\n",
      "499        0.839931       0.002814       0.706424      0.002884\n",
      "\n",
      "[500 rows x 4 columns]\n",
      "| \u001b[0m 2       \u001b[0m | \u001b[0m 0.7074  \u001b[0m | \u001b[0m 0.2345  \u001b[0m | \u001b[0m 0.5974  \u001b[0m | \u001b[0m 5.893   \u001b[0m | \u001b[0m 4.782   \u001b[0m | \u001b[0m 0.696   \u001b[0m |\n"
     ]
    },
    {
     "name": "stdout",
     "output_type": "stream",
     "text": [
      "     train-auc-mean  train-auc-std  test-auc-mean  test-auc-std\n",
      "0          0.694033       0.002294       0.666685      0.002734\n",
      "1          0.705425       0.001807       0.673335      0.003989\n",
      "2          0.714928       0.000902       0.680158      0.003747\n",
      "3          0.717627       0.001159       0.682338      0.004167\n",
      "4          0.721973       0.000966       0.684118      0.004669\n",
      "5          0.725411       0.001457       0.686258      0.004415\n",
      "6          0.726651       0.000305       0.686677      0.004822\n",
      "7          0.727791       0.001505       0.687619      0.004592\n",
      "8          0.729272       0.001645       0.688720      0.004690\n",
      "9          0.730461       0.002143       0.688762      0.004571\n",
      "10         0.731974       0.003671       0.689139      0.004301\n",
      "11         0.733511       0.003007       0.689521      0.003668\n",
      "12         0.735032       0.003394       0.690061      0.003473\n",
      "13         0.736474       0.003329       0.690587      0.003418\n",
      "14         0.738170       0.002569       0.691015      0.003387\n",
      "15         0.738743       0.001775       0.691258      0.003464\n",
      "16         0.740765       0.002591       0.692026      0.003143\n",
      "17         0.741074       0.002596       0.692086      0.002832\n",
      "18         0.742615       0.002360       0.692044      0.002894\n",
      "19         0.743349       0.002354       0.692745      0.003021\n",
      "20         0.743952       0.002198       0.693058      0.003467\n",
      "21         0.744834       0.001933       0.693198      0.003436\n",
      "22         0.746104       0.001627       0.693338      0.003459\n",
      "23         0.746734       0.001571       0.693586      0.003599\n",
      "24         0.747517       0.001510       0.693642      0.003547\n",
      "25         0.748810       0.002230       0.693950      0.003497\n",
      "26         0.749398       0.002386       0.694312      0.003497\n",
      "27         0.750007       0.002394       0.694759      0.003537\n",
      "28         0.750398       0.002129       0.695115      0.003600\n",
      "29         0.750985       0.001773       0.695403      0.003467\n",
      "..              ...            ...            ...           ...\n",
      "470        0.911885       0.000737       0.702797      0.003575\n",
      "471        0.912122       0.000824       0.702788      0.003631\n",
      "472        0.912419       0.000983       0.702727      0.003709\n",
      "473        0.912598       0.000968       0.702744      0.003687\n",
      "474        0.912740       0.000949       0.702700      0.003691\n",
      "475        0.912946       0.000846       0.702725      0.003767\n",
      "476        0.913199       0.000902       0.702759      0.003728\n",
      "477        0.913456       0.000944       0.702718      0.003777\n",
      "478        0.913685       0.001019       0.702695      0.003791\n",
      "479        0.913963       0.001083       0.702623      0.003816\n",
      "480        0.914209       0.001082       0.702551      0.003754\n",
      "481        0.914425       0.001041       0.702565      0.003796\n",
      "482        0.914662       0.001070       0.702576      0.003786\n",
      "483        0.914874       0.001066       0.702481      0.003830\n",
      "484        0.915069       0.001159       0.702515      0.003829\n",
      "485        0.915217       0.001135       0.702495      0.003798\n",
      "486        0.915452       0.001183       0.702445      0.003754\n",
      "487        0.915620       0.001113       0.702410      0.003754\n",
      "488        0.915796       0.001101       0.702399      0.003758\n",
      "489        0.915940       0.001028       0.702407      0.003782\n",
      "490        0.916149       0.000969       0.702383      0.003748\n",
      "491        0.916265       0.000909       0.702388      0.003764\n",
      "492        0.916495       0.000919       0.702341      0.003775\n",
      "493        0.916662       0.000879       0.702334      0.003743\n",
      "494        0.916846       0.000907       0.702295      0.003762\n",
      "495        0.917053       0.000976       0.702298      0.003807\n",
      "496        0.917152       0.000953       0.702273      0.003800\n",
      "497        0.917266       0.000964       0.702219      0.003781\n",
      "498        0.917379       0.001030       0.702263      0.003724\n",
      "499        0.917583       0.000937       0.702229      0.003689\n",
      "\n",
      "[500 rows x 4 columns]\n",
      "| \u001b[0m 3       \u001b[0m | \u001b[0m 0.7066  \u001b[0m | \u001b[0m 0.4689  \u001b[0m | \u001b[0m 0.06586 \u001b[0m | \u001b[0m 7.525   \u001b[0m | \u001b[0m 13.3    \u001b[0m | \u001b[0m 0.6815  \u001b[0m |\n",
      "     train-auc-mean  train-auc-std  test-auc-mean  test-auc-std\n",
      "0          0.646415       0.000959       0.636740      0.005852\n",
      "1          0.666845       0.003360       0.651054      0.003030\n",
      "2          0.680553       0.007092       0.663278      0.012992\n",
      "3          0.685603       0.005617       0.665862      0.011658\n",
      "4          0.688870       0.004104       0.667549      0.008758\n",
      "5          0.695862       0.002532       0.673981      0.005731\n",
      "6          0.697885       0.004607       0.676390      0.008792\n",
      "7          0.699614       0.003493       0.676434      0.009397\n",
      "8          0.701899       0.002636       0.678945      0.009530\n",
      "9          0.703100       0.001917       0.678912      0.008961\n",
      "10         0.704799       0.001920       0.680125      0.007803\n",
      "11         0.706342       0.002019       0.681610      0.006116\n",
      "12         0.707000       0.001562       0.681444      0.005718\n",
      "13         0.707546       0.001540       0.681882      0.006723\n",
      "14         0.708552       0.000960       0.682033      0.006514\n",
      "15         0.709573       0.000115       0.683684      0.006281\n",
      "16         0.710589       0.000283       0.684651      0.005926\n",
      "17         0.711208       0.000139       0.685177      0.005726\n",
      "18         0.711718       0.000319       0.685349      0.005820\n",
      "19         0.712836       0.000129       0.687252      0.005335\n",
      "20         0.712804       0.000147       0.687133      0.005242\n",
      "21         0.713471       0.000600       0.687401      0.005374\n",
      "22         0.714322       0.000414       0.687735      0.004719\n",
      "23         0.714997       0.000630       0.687819      0.004490\n",
      "24         0.715735       0.000445       0.687966      0.004645\n",
      "25         0.716675       0.000474       0.688461      0.004409\n",
      "26         0.716904       0.000967       0.688190      0.004063\n",
      "27         0.717436       0.001123       0.688463      0.004314\n",
      "28         0.718015       0.001213       0.689150      0.003845\n",
      "29         0.717882       0.001293       0.689109      0.003740\n",
      "..              ...            ...            ...           ...\n",
      "470        0.833848       0.002014       0.707358      0.002928\n",
      "471        0.834061       0.002031       0.707346      0.002927\n",
      "472        0.834206       0.002056       0.707364      0.002933\n",
      "473        0.834338       0.002104       0.707388      0.002940\n",
      "474        0.834528       0.002108       0.707372      0.002897\n",
      "475        0.834687       0.002114       0.707400      0.002917\n",
      "476        0.834828       0.002099       0.707385      0.002870\n",
      "477        0.835048       0.002053       0.707407      0.002878\n",
      "478        0.835170       0.002026       0.707452      0.002858\n",
      "479        0.835293       0.002051       0.707436      0.002842\n",
      "480        0.835473       0.002083       0.707419      0.002869\n",
      "481        0.835666       0.002008       0.707379      0.002837\n",
      "482        0.835861       0.001935       0.707376      0.002871\n",
      "483        0.835981       0.001914       0.707409      0.002866\n",
      "484        0.836161       0.001885       0.707378      0.002842\n",
      "485        0.836276       0.001849       0.707386      0.002846\n",
      "486        0.836549       0.001810       0.707377      0.002815\n",
      "487        0.836643       0.001790       0.707358      0.002822\n",
      "488        0.836859       0.001816       0.707361      0.002791\n",
      "489        0.836961       0.001828       0.707366      0.002836\n",
      "490        0.837110       0.001867       0.707359      0.002837\n",
      "491        0.837157       0.001852       0.707344      0.002803\n",
      "492        0.837285       0.001779       0.707325      0.002788\n",
      "493        0.837464       0.001839       0.707310      0.002786\n",
      "494        0.837560       0.001881       0.707284      0.002770\n",
      "495        0.837733       0.001793       0.707282      0.002776\n",
      "496        0.837828       0.001823       0.707294      0.002748\n",
      "497        0.838078       0.001811       0.707266      0.002720\n",
      "498        0.838212       0.001857       0.707274      0.002747\n",
      "499        0.838369       0.001874       0.707264      0.002742\n",
      "\n",
      "[500 rows x 4 columns]\n",
      "| \u001b[0m 4       \u001b[0m | \u001b[0m 0.7078  \u001b[0m | \u001b[0m 0.215   \u001b[0m | \u001b[0m 0.2421  \u001b[0m | \u001b[0m 5.565   \u001b[0m | \u001b[0m 4.993   \u001b[0m | \u001b[0m 0.6884  \u001b[0m |\n"
     ]
    },
    {
     "name": "stdout",
     "output_type": "stream",
     "text": [
      "     train-auc-mean  train-auc-std  test-auc-mean  test-auc-std\n",
      "0          0.677664       0.000664       0.671285      0.005729\n",
      "1          0.683358       0.001402       0.676089      0.002409\n",
      "2          0.687486       0.001898       0.679808      0.005480\n",
      "3          0.690233       0.000693       0.681846      0.005236\n",
      "4          0.691138       0.000211       0.682632      0.005537\n",
      "5          0.691909       0.000354       0.683346      0.004962\n",
      "6          0.692518       0.000677       0.684218      0.004199\n",
      "7          0.692802       0.000757       0.684541      0.004527\n",
      "8          0.693115       0.000888       0.684763      0.004105\n",
      "9          0.693179       0.001322       0.685079      0.003906\n",
      "10         0.693573       0.002003       0.685467      0.003477\n",
      "11         0.694097       0.001729       0.685573      0.003530\n",
      "12         0.694436       0.001267       0.685604      0.003703\n",
      "13         0.694967       0.001466       0.685784      0.003909\n",
      "14         0.695686       0.001758       0.686270      0.003469\n",
      "15         0.696222       0.001828       0.686535      0.003369\n",
      "16         0.696559       0.001928       0.686948      0.003257\n",
      "17         0.696936       0.001464       0.687035      0.003671\n",
      "18         0.697137       0.001431       0.687300      0.003779\n",
      "19         0.697430       0.001463       0.687409      0.003723\n",
      "20         0.697805       0.001601       0.687596      0.003683\n",
      "21         0.698480       0.001894       0.687933      0.003634\n",
      "22         0.698945       0.001389       0.688404      0.004043\n",
      "23         0.699277       0.001558       0.688547      0.003926\n",
      "24         0.699800       0.001913       0.688625      0.003805\n",
      "25         0.700130       0.001900       0.688708      0.003765\n",
      "26         0.700367       0.002056       0.688802      0.003581\n",
      "27         0.700679       0.002054       0.688920      0.003561\n",
      "28         0.700851       0.001974       0.689027      0.003520\n",
      "29         0.701243       0.002113       0.689209      0.003451\n",
      "..              ...            ...            ...           ...\n",
      "470        0.788687       0.001180       0.708851      0.002908\n",
      "471        0.788840       0.001242       0.708825      0.002971\n",
      "472        0.789002       0.001323       0.708845      0.002953\n",
      "473        0.789119       0.001344       0.708857      0.002983\n",
      "474        0.789268       0.001386       0.708856      0.002962\n",
      "475        0.789365       0.001348       0.708866      0.003006\n",
      "476        0.789478       0.001411       0.708873      0.003002\n",
      "477        0.789625       0.001444       0.708885      0.002965\n",
      "478        0.789674       0.001419       0.708878      0.002948\n",
      "479        0.789843       0.001493       0.708907      0.002970\n",
      "480        0.789992       0.001563       0.708899      0.002961\n",
      "481        0.790119       0.001500       0.708906      0.002951\n",
      "482        0.790228       0.001488       0.708908      0.002930\n",
      "483        0.790394       0.001510       0.708879      0.002923\n",
      "484        0.790525       0.001494       0.708897      0.002913\n",
      "485        0.790658       0.001469       0.708872      0.002860\n",
      "486        0.790802       0.001476       0.708890      0.002854\n",
      "487        0.790900       0.001464       0.708866      0.002832\n",
      "488        0.791044       0.001501       0.708852      0.002820\n",
      "489        0.791154       0.001464       0.708824      0.002780\n",
      "490        0.791297       0.001466       0.708837      0.002786\n",
      "491        0.791368       0.001514       0.708858      0.002788\n",
      "492        0.791476       0.001522       0.708844      0.002784\n",
      "493        0.791567       0.001515       0.708842      0.002777\n",
      "494        0.791715       0.001519       0.708842      0.002767\n",
      "495        0.791865       0.001507       0.708850      0.002775\n",
      "496        0.791984       0.001487       0.708807      0.002768\n",
      "497        0.792097       0.001522       0.708827      0.002741\n",
      "498        0.792225       0.001549       0.708823      0.002707\n",
      "499        0.792380       0.001571       0.708833      0.002716\n",
      "\n",
      "[500 rows x 4 columns]\n",
      "| \u001b[95m 5       \u001b[0m | \u001b[95m 0.7089  \u001b[0m | \u001b[95m 0.6893  \u001b[0m | \u001b[95m 0.5421  \u001b[0m | \u001b[95m 4.331   \u001b[0m | \u001b[95m 19.16   \u001b[0m | \u001b[95m 0.7475  \u001b[0m |\n",
      "     train-auc-mean  train-auc-std  test-auc-mean  test-auc-std\n",
      "0          0.677723       0.001442       0.671020      0.004306\n",
      "1          0.683293       0.001633       0.677475      0.002632\n",
      "2          0.685457       0.000771       0.679108      0.003620\n",
      "3          0.688353       0.000377       0.681150      0.004581\n",
      "4          0.689077       0.000413       0.681503      0.004832\n",
      "5          0.690025       0.000367       0.681880      0.004947\n",
      "6          0.690591       0.000456       0.681901      0.004692\n",
      "7          0.691515       0.000302       0.682792      0.004633\n",
      "8          0.692097       0.000434       0.683247      0.004221\n",
      "9          0.693058       0.000123       0.683942      0.004639\n",
      "10         0.693628       0.000742       0.684582      0.004231\n",
      "11         0.694150       0.000573       0.684917      0.004070\n",
      "12         0.694482       0.000218       0.685140      0.004230\n",
      "13         0.694895       0.000520       0.685170      0.004331\n",
      "14         0.695538       0.000930       0.685763      0.004026\n",
      "15         0.696172       0.001174       0.686196      0.003749\n",
      "16         0.696547       0.001408       0.686763      0.003596\n",
      "17         0.696890       0.001347       0.686735      0.003630\n",
      "18         0.697212       0.001352       0.687189      0.003719\n",
      "19         0.697577       0.001434       0.687511      0.003638\n",
      "20         0.698017       0.001504       0.687767      0.003678\n",
      "21         0.698338       0.001567       0.687831      0.003701\n",
      "22         0.698868       0.001117       0.688275      0.004104\n",
      "23         0.699237       0.001392       0.688379      0.003952\n",
      "24         0.699634       0.001468       0.688628      0.003796\n",
      "25         0.699965       0.001491       0.688733      0.003803\n",
      "26         0.700226       0.001607       0.688867      0.003630\n",
      "27         0.700630       0.001775       0.689038      0.003467\n",
      "28         0.700891       0.001790       0.689175      0.003330\n",
      "29         0.701380       0.002073       0.689413      0.003218\n",
      "..              ...            ...            ...           ...\n",
      "470        0.787612       0.002587       0.708152      0.002986\n",
      "471        0.787746       0.002644       0.708130      0.002993\n",
      "472        0.787932       0.002701       0.708140      0.002964\n",
      "473        0.788003       0.002742       0.708182      0.002949\n",
      "474        0.788144       0.002793       0.708116      0.002928\n",
      "475        0.788223       0.002794       0.708139      0.002981\n",
      "476        0.788312       0.002790       0.708118      0.002970\n",
      "477        0.788462       0.002839       0.708098      0.002977\n",
      "478        0.788537       0.002819       0.708121      0.002985\n",
      "479        0.788694       0.002850       0.708100      0.002968\n",
      "480        0.788889       0.002860       0.708067      0.003008\n",
      "481        0.789078       0.002823       0.708084      0.003060\n",
      "482        0.789212       0.002779       0.708075      0.003047\n",
      "483        0.789344       0.002847       0.708103      0.003008\n",
      "484        0.789467       0.002866       0.708112      0.003017\n",
      "485        0.789599       0.002831       0.708079      0.002990\n",
      "486        0.789751       0.002832       0.708087      0.002982\n",
      "487        0.789856       0.002817       0.708061      0.002979\n",
      "488        0.790041       0.002846       0.708043      0.002965\n",
      "489        0.790131       0.002797       0.708055      0.002977\n",
      "490        0.790181       0.002789       0.708049      0.002981\n",
      "491        0.790305       0.002785       0.708048      0.002978\n",
      "492        0.790423       0.002827       0.707992      0.003015\n",
      "493        0.790525       0.002822       0.708006      0.003019\n",
      "494        0.790639       0.002813       0.708001      0.003020\n",
      "495        0.790770       0.002787       0.707995      0.003032\n",
      "496        0.790886       0.002841       0.707995      0.003001\n",
      "497        0.790956       0.002833       0.707991      0.003008\n",
      "498        0.791037       0.002874       0.708021      0.002994\n",
      "499        0.791261       0.002938       0.707990      0.002989\n",
      "\n",
      "[500 rows x 4 columns]\n",
      "| \u001b[0m 6       \u001b[0m | \u001b[0m 0.7084  \u001b[0m | \u001b[0m 0.7079  \u001b[0m | \u001b[0m 0.006026\u001b[0m | \u001b[0m 4.2     \u001b[0m | \u001b[0m 19.97   \u001b[0m | \u001b[0m 0.6772  \u001b[0m |\n"
     ]
    },
    {
     "name": "stdout",
     "output_type": "stream",
     "text": [
      "     train-auc-mean  train-auc-std  test-auc-mean  test-auc-std\n",
      "0          0.678284       0.000802       0.671750      0.005324\n",
      "1          0.683341       0.003250       0.676691      0.003493\n",
      "2          0.686749       0.000786       0.679024      0.004986\n",
      "3          0.687244       0.000571       0.680257      0.004961\n",
      "4          0.688242       0.000754       0.681081      0.005284\n",
      "5          0.689426       0.000753       0.681752      0.005155\n",
      "6          0.690195       0.000615       0.682336      0.004713\n",
      "7          0.690965       0.000748       0.682888      0.004427\n",
      "8          0.691578       0.000879       0.683255      0.004205\n",
      "9          0.692097       0.000889       0.683904      0.004367\n",
      "10         0.693223       0.001231       0.684475      0.004120\n",
      "11         0.693722       0.001324       0.684589      0.003990\n",
      "12         0.694200       0.000772       0.684900      0.004186\n",
      "13         0.694899       0.001039       0.685411      0.004055\n",
      "14         0.695196       0.001212       0.685551      0.003868\n",
      "15         0.695522       0.001427       0.685785      0.003858\n",
      "16         0.695984       0.001636       0.686222      0.003707\n",
      "17         0.696437       0.001281       0.686415      0.004134\n",
      "18         0.696737       0.001356       0.686667      0.004017\n",
      "19         0.697088       0.001225       0.686827      0.003884\n",
      "20         0.697443       0.001441       0.686972      0.003667\n",
      "21         0.697766       0.001503       0.687079      0.003921\n",
      "22         0.698011       0.001468       0.687343      0.003825\n",
      "23         0.698451       0.001578       0.687487      0.003753\n",
      "24         0.698884       0.001646       0.687780      0.003635\n",
      "25         0.699287       0.001668       0.687980      0.003505\n",
      "26         0.699488       0.001668       0.688157      0.003466\n",
      "27         0.699836       0.001755       0.688306      0.003422\n",
      "28         0.700075       0.001694       0.688471      0.003395\n",
      "29         0.700377       0.001735       0.688703      0.003271\n",
      "..              ...            ...            ...           ...\n",
      "470        0.790433       0.000731       0.708553      0.002857\n",
      "471        0.790621       0.000707       0.708524      0.002842\n",
      "472        0.790781       0.000741       0.708497      0.002815\n",
      "473        0.790926       0.000774       0.708503      0.002830\n",
      "474        0.791053       0.000806       0.708474      0.002825\n",
      "475        0.791181       0.000787       0.708448      0.002860\n",
      "476        0.791299       0.000787       0.708402      0.002841\n",
      "477        0.791502       0.000784       0.708436      0.002836\n",
      "478        0.791596       0.000754       0.708450      0.002829\n",
      "479        0.791737       0.000745       0.708467      0.002825\n",
      "480        0.791855       0.000769       0.708457      0.002829\n",
      "481        0.791926       0.000785       0.708466      0.002828\n",
      "482        0.792070       0.000788       0.708421      0.002829\n",
      "483        0.792157       0.000822       0.708432      0.002837\n",
      "484        0.792195       0.000833       0.708440      0.002818\n",
      "485        0.792314       0.000840       0.708420      0.002805\n",
      "486        0.792504       0.000826       0.708435      0.002816\n",
      "487        0.792678       0.000746       0.708443      0.002838\n",
      "488        0.792824       0.000703       0.708403      0.002854\n",
      "489        0.792952       0.000735       0.708396      0.002860\n",
      "490        0.793114       0.000782       0.708388      0.002884\n",
      "491        0.793238       0.000765       0.708396      0.002892\n",
      "492        0.793391       0.000754       0.708412      0.002904\n",
      "493        0.793476       0.000751       0.708396      0.002904\n",
      "494        0.793568       0.000752       0.708419      0.002920\n",
      "495        0.793727       0.000739       0.708417      0.002901\n",
      "496        0.793848       0.000676       0.708422      0.002915\n",
      "497        0.793940       0.000661       0.708398      0.002937\n",
      "498        0.794063       0.000637       0.708424      0.002944\n",
      "499        0.794181       0.000601       0.708432      0.002913\n",
      "\n",
      "[500 rows x 4 columns]\n",
      "| \u001b[0m 7       \u001b[0m | \u001b[0m 0.7086  \u001b[0m | \u001b[0m 0.8     \u001b[0m | \u001b[0m 0.2107  \u001b[0m | \u001b[0m 4.0     \u001b[0m | \u001b[0m 18.54   \u001b[0m | \u001b[0m 0.8183  \u001b[0m |\n",
      "=====================================================================================\n"
     ]
    }
   ],
   "source": [
    "xgb_BO.maximize(init_points=3, n_iter=4, acq='ei')"
   ]
  },
  {
   "cell_type": "code",
   "execution_count": 307,
   "metadata": {},
   "outputs": [
    {
     "data": {
      "text/plain": [
       "{'target': 0.7089076666666667,\n",
       " 'params': {'colsample_bytree': 0.6892786418762147,\n",
       "  'gamma': 0.5421181439601204,\n",
       "  'max_depth': 4.331225118257002,\n",
       "  'min_child_weight': 19.164952423300743,\n",
       "  'subsample': 0.7475315637469417}}"
      ]
     },
     "execution_count": 307,
     "metadata": {},
     "output_type": "execute_result"
    }
   ],
   "source": [
    "xgb_BO.max"
   ]
  },
  {
   "cell_type": "code",
   "execution_count": 323,
   "metadata": {},
   "outputs": [
    {
     "data": {
      "text/plain": [
       "{'colsample_bytree': 0.6892786418762147,\n",
       " 'gamma': 0.5421181439601204,\n",
       " 'max_depth': 4,\n",
       " 'min_child_weight': 19.164952423300743,\n",
       " 'subsample': 0.7475315637469417,\n",
       " 'eval_metric': 'auc'}"
      ]
     },
     "execution_count": 323,
     "metadata": {},
     "output_type": "execute_result"
    }
   ],
   "source": [
    "params=xgb_BO.max['params']\n",
    "params['max_depth']= int(params['max_depth'])\n",
    "params['eval_metric']='auc'\n",
    "params"
   ]
  },
  {
   "cell_type": "code",
   "execution_count": 324,
   "metadata": {
    "scrolled": true
   },
   "outputs": [
    {
     "name": "stdout",
     "output_type": "stream",
     "text": [
      "[0]\ttrain-auc:0.678074\teval-auc:0.672725\n",
      "Multiple eval metrics have been passed: 'eval-auc' will be used for early stopping.\n",
      "\n",
      "Will train until eval-auc hasn't improved in 50 rounds.\n",
      "[1]\ttrain-auc:0.684316\teval-auc:0.677624\n",
      "[2]\ttrain-auc:0.689925\teval-auc:0.681191\n",
      "[3]\ttrain-auc:0.695726\teval-auc:0.686995\n",
      "[4]\ttrain-auc:0.698846\teval-auc:0.68847\n",
      "[5]\ttrain-auc:0.701728\teval-auc:0.690193\n",
      "[6]\ttrain-auc:0.706404\teval-auc:0.693187\n",
      "[7]\ttrain-auc:0.710891\teval-auc:0.694366\n",
      "[8]\ttrain-auc:0.714718\teval-auc:0.69582\n",
      "[9]\ttrain-auc:0.716219\teval-auc:0.696386\n",
      "[10]\ttrain-auc:0.71913\teval-auc:0.696546\n",
      "[11]\ttrain-auc:0.721072\teval-auc:0.697359\n",
      "[12]\ttrain-auc:0.721839\teval-auc:0.697323\n",
      "[13]\ttrain-auc:0.723892\teval-auc:0.697633\n",
      "[14]\ttrain-auc:0.72541\teval-auc:0.698796\n",
      "[15]\ttrain-auc:0.7271\teval-auc:0.69892\n",
      "[16]\ttrain-auc:0.728744\teval-auc:0.698674\n",
      "[17]\ttrain-auc:0.729502\teval-auc:0.698479\n",
      "[18]\ttrain-auc:0.731025\teval-auc:0.699014\n",
      "[19]\ttrain-auc:0.732272\teval-auc:0.698941\n",
      "[20]\ttrain-auc:0.733738\teval-auc:0.698724\n",
      "[21]\ttrain-auc:0.735449\teval-auc:0.698955\n",
      "[22]\ttrain-auc:0.73622\teval-auc:0.698682\n",
      "[23]\ttrain-auc:0.737051\teval-auc:0.698707\n",
      "[24]\ttrain-auc:0.738578\teval-auc:0.698969\n",
      "[25]\ttrain-auc:0.740087\teval-auc:0.698478\n",
      "[26]\ttrain-auc:0.741413\teval-auc:0.698633\n",
      "[27]\ttrain-auc:0.742625\teval-auc:0.698686\n",
      "[28]\ttrain-auc:0.744189\teval-auc:0.698423\n",
      "[29]\ttrain-auc:0.744759\teval-auc:0.698578\n",
      "[30]\ttrain-auc:0.746434\teval-auc:0.697882\n",
      "[31]\ttrain-auc:0.747431\teval-auc:0.697763\n",
      "[32]\ttrain-auc:0.748609\teval-auc:0.697373\n",
      "[33]\ttrain-auc:0.749964\teval-auc:0.697044\n",
      "[34]\ttrain-auc:0.751712\teval-auc:0.696654\n",
      "[35]\ttrain-auc:0.753005\teval-auc:0.696634\n",
      "[36]\ttrain-auc:0.75376\teval-auc:0.696802\n",
      "[37]\ttrain-auc:0.754805\teval-auc:0.69696\n",
      "[38]\ttrain-auc:0.755837\teval-auc:0.696153\n",
      "[39]\ttrain-auc:0.756224\teval-auc:0.696208\n",
      "[40]\ttrain-auc:0.75768\teval-auc:0.696682\n",
      "[41]\ttrain-auc:0.75848\teval-auc:0.696575\n",
      "[42]\ttrain-auc:0.759726\teval-auc:0.696269\n",
      "[43]\ttrain-auc:0.760593\teval-auc:0.696074\n",
      "[44]\ttrain-auc:0.761597\teval-auc:0.695591\n",
      "[45]\ttrain-auc:0.762469\teval-auc:0.69534\n",
      "[46]\ttrain-auc:0.764172\teval-auc:0.695626\n",
      "[47]\ttrain-auc:0.765248\teval-auc:0.695082\n",
      "[48]\ttrain-auc:0.767079\teval-auc:0.694881\n",
      "[49]\ttrain-auc:0.768231\teval-auc:0.694633\n",
      "[50]\ttrain-auc:0.768938\teval-auc:0.694089\n",
      "[51]\ttrain-auc:0.76937\teval-auc:0.693801\n",
      "[52]\ttrain-auc:0.770846\teval-auc:0.693826\n",
      "[53]\ttrain-auc:0.77175\teval-auc:0.693583\n",
      "[54]\ttrain-auc:0.772377\teval-auc:0.693582\n",
      "[55]\ttrain-auc:0.773356\teval-auc:0.693698\n",
      "[56]\ttrain-auc:0.773679\teval-auc:0.693737\n",
      "[57]\ttrain-auc:0.775192\teval-auc:0.692871\n",
      "[58]\ttrain-auc:0.776169\teval-auc:0.69265\n",
      "[59]\ttrain-auc:0.777712\teval-auc:0.692361\n",
      "[60]\ttrain-auc:0.778022\teval-auc:0.692185\n",
      "[61]\ttrain-auc:0.778854\teval-auc:0.69181\n",
      "[62]\ttrain-auc:0.780161\teval-auc:0.691604\n",
      "[63]\ttrain-auc:0.780736\teval-auc:0.69162\n",
      "[64]\ttrain-auc:0.781619\teval-auc:0.69173\n",
      "[65]\ttrain-auc:0.78229\teval-auc:0.691677\n",
      "[66]\ttrain-auc:0.782565\teval-auc:0.691656\n",
      "[67]\ttrain-auc:0.783013\teval-auc:0.691439\n",
      "[68]\ttrain-auc:0.783585\teval-auc:0.691154\n",
      "Stopping. Best iteration:\n",
      "[18]\ttrain-auc:0.731025\teval-auc:0.699014\n",
      "\n"
     ]
    }
   ],
   "source": [
    "watchlist = [(dtrain, 'train'), (dvalid, 'eval')]\n",
    "num_boost_round=1000\n",
    "gbm = xgb.train(params, dtrain, num_boost_round, evals=watchlist, early_stopping_rounds=50)"
   ]
  },
  {
   "cell_type": "code",
   "execution_count": 326,
   "metadata": {},
   "outputs": [
    {
     "data": {
      "text/plain": [
       "XGBClassifier(colsample_bytree=0.6892786418762147, eval_metric='auc',\n",
       "              gamma=0.5421181439601204, max_depth=4,\n",
       "              min_child_weight=19.164952423300743, n_estimators=18,\n",
       "              subsample=0.7475315637469417)"
      ]
     },
     "execution_count": 326,
     "metadata": {},
     "output_type": "execute_result"
    }
   ],
   "source": [
    "params['n_estimators']=18\n",
    "\n",
    "clf_train = xgb.XGBClassifier(**params)\n",
    "\n",
    "clf_train.fit(train_x, train_y)"
   ]
  },
  {
   "cell_type": "code",
   "execution_count": 327,
   "metadata": {},
   "outputs": [
    {
     "name": "stdout",
     "output_type": "stream",
     "text": [
      "Area under the ROC curve - validation: 0.699014\n",
      "Area under the ROC curve - train: 0.731024\n",
      "Area under the ROC curve - test: 0.694702\n"
     ]
    },
    {
     "data": {
      "image/png": "[encoded data removed]",
      "text/plain": [
       "<Figure size 576x576 with 1 Axes>"
      ]
     },
     "metadata": {
      "needs_background": "light"
     },
     "output_type": "display_data"
    }
   ],
   "source": [
    "draw_ROC(gbm, dtrain, dvalid, dtest, y_train1, y_val1, y_test1)"
   ]
  },
  {
   "cell_type": "code",
   "execution_count": 330,
   "metadata": {},
   "outputs": [],
   "source": [
    "feature_importance_df1 = get_xgb_imp(xgb, list(df_all))\n",
    "feature_importance_df1['fscore'] = feature_importance_df1['importance'] / feature_importance_df1['importance'].sum()\n",
    "feature_importance_df1.sort_values(['fscore'], ascending=False, inplace=True)\n",
    "feature_importance_df1=feature_importance_df1.drop(['importance'], axis=1)\n",
    "df1_imp_plt=feature_importance_df1[:20]"
   ]
  },
  {
   "cell_type": "markdown",
   "metadata": {},
   "source": [
    "Feature importance"
   ]
  },
  {
   "cell_type": "code",
   "execution_count": 338,
   "metadata": {},
   "outputs": [
    {
     "data": {
      "text/html": [
       "<div>\n",
       "<style scoped>\n",
       "    .dataframe tbody tr th:only-of-type {\n",
       "        vertical-align: middle;\n",
       "    }\n",
       "\n",
       "    .dataframe tbody tr th {\n",
       "        vertical-align: top;\n",
       "    }\n",
       "\n",
       "    .dataframe thead th {\n",
       "        text-align: right;\n",
       "    }\n",
       "</style>\n",
       "<table border=\"1\" class=\"dataframe\">\n",
       "  <thead>\n",
       "    <tr style=\"text-align: right;\">\n",
       "      <th></th>\n",
       "      <th>feature</th>\n",
       "      <th>fscore</th>\n",
       "    </tr>\n",
       "  </thead>\n",
       "  <tbody>\n",
       "    <tr>\n",
       "      <th>0</th>\n",
       "      <td>installment</td>\n",
       "      <td>0.052375</td>\n",
       "    </tr>\n",
       "    <tr>\n",
       "      <th>2</th>\n",
       "      <td>dti</td>\n",
       "      <td>0.036541</td>\n",
       "    </tr>\n",
       "    <tr>\n",
       "      <th>3</th>\n",
       "      <td>intrate</td>\n",
       "      <td>0.036541</td>\n",
       "    </tr>\n",
       "    <tr>\n",
       "      <th>4</th>\n",
       "      <td>mosinoldrevtlop</td>\n",
       "      <td>0.028015</td>\n",
       "    </tr>\n",
       "    <tr>\n",
       "      <th>5</th>\n",
       "      <td>bcutil</td>\n",
       "      <td>0.025579</td>\n",
       "    </tr>\n",
       "    <tr>\n",
       "      <th>6</th>\n",
       "      <td>tothicredlim</td>\n",
       "      <td>0.024361</td>\n",
       "    </tr>\n",
       "    <tr>\n",
       "      <th>7</th>\n",
       "      <td>emptitle_freq_encode</td>\n",
       "      <td>0.023143</td>\n",
       "    </tr>\n",
       "    <tr>\n",
       "      <th>8</th>\n",
       "      <td>allutil</td>\n",
       "      <td>0.021924</td>\n",
       "    </tr>\n",
       "    <tr>\n",
       "      <th>9</th>\n",
       "      <td>revolutil</td>\n",
       "      <td>0.020706</td>\n",
       "    </tr>\n",
       "    <tr>\n",
       "      <th>10</th>\n",
       "      <td>mthssincercntil</td>\n",
       "      <td>0.020706</td>\n",
       "    </tr>\n",
       "    <tr>\n",
       "      <th>11</th>\n",
       "      <td>annualinc</td>\n",
       "      <td>0.019488</td>\n",
       "    </tr>\n",
       "    <tr>\n",
       "      <th>12</th>\n",
       "      <td>totalbclimit</td>\n",
       "      <td>0.018270</td>\n",
       "    </tr>\n",
       "    <tr>\n",
       "      <th>13</th>\n",
       "      <td>pcttlnvrdlq</td>\n",
       "      <td>0.018270</td>\n",
       "    </tr>\n",
       "    <tr>\n",
       "      <th>14</th>\n",
       "      <td>totalrevhilim</td>\n",
       "      <td>0.017052</td>\n",
       "    </tr>\n",
       "    <tr>\n",
       "      <th>15</th>\n",
       "      <td>mosinoldilacct</td>\n",
       "      <td>0.015834</td>\n",
       "    </tr>\n",
       "    <tr>\n",
       "      <th>16</th>\n",
       "      <td>totalbalexmort</td>\n",
       "      <td>0.015834</td>\n",
       "    </tr>\n",
       "    <tr>\n",
       "      <th>17</th>\n",
       "      <td>addrstate_freq_encode</td>\n",
       "      <td>0.015834</td>\n",
       "    </tr>\n",
       "    <tr>\n",
       "      <th>18</th>\n",
       "      <td>totalilhighcreditlimit</td>\n",
       "      <td>0.015834</td>\n",
       "    </tr>\n",
       "    <tr>\n",
       "      <th>19</th>\n",
       "      <td>revolbal</td>\n",
       "      <td>0.015834</td>\n",
       "    </tr>\n",
       "    <tr>\n",
       "      <th>20</th>\n",
       "      <td>ilutil</td>\n",
       "      <td>0.014616</td>\n",
       "    </tr>\n",
       "  </tbody>\n",
       "</table>\n",
       "</div>"
      ],
      "text/plain": [
       "                   feature    fscore\n",
       "0              installment  0.052375\n",
       "2                      dti  0.036541\n",
       "3                  intrate  0.036541\n",
       "4          mosinoldrevtlop  0.028015\n",
       "5                   bcutil  0.025579\n",
       "6             tothicredlim  0.024361\n",
       "7     emptitle_freq_encode  0.023143\n",
       "8                  allutil  0.021924\n",
       "9                revolutil  0.020706\n",
       "10         mthssincercntil  0.020706\n",
       "11               annualinc  0.019488\n",
       "12            totalbclimit  0.018270\n",
       "13             pcttlnvrdlq  0.018270\n",
       "14           totalrevhilim  0.017052\n",
       "15          mosinoldilacct  0.015834\n",
       "16          totalbalexmort  0.015834\n",
       "17   addrstate_freq_encode  0.015834\n",
       "18  totalilhighcreditlimit  0.015834\n",
       "19                revolbal  0.015834\n",
       "20                  ilutil  0.014616"
      ]
     },
     "execution_count": 338,
     "metadata": {},
     "output_type": "execute_result"
    }
   ],
   "source": [
    "df1_imp_plt"
   ]
  },
  {
   "cell_type": "code",
   "execution_count": 339,
   "metadata": {},
   "outputs": [
    {
     "data": {
      "text/plain": [
       "[Text(0, 0, 'installment'),\n",
       " Text(0, 0, 'dti'),\n",
       " Text(0, 0, 'intrate'),\n",
       " Text(0, 0, 'mosinoldrevtlop'),\n",
       " Text(0, 0, 'bcutil'),\n",
       " Text(0, 0, 'tothicredlim'),\n",
       " Text(0, 0, 'emptitle_freq_encode'),\n",
       " Text(0, 0, 'allutil'),\n",
       " Text(0, 0, 'revolutil'),\n",
       " Text(0, 0, 'mthssincercntil'),\n",
       " Text(0, 0, 'annualinc'),\n",
       " Text(0, 0, 'totalbclimit'),\n",
       " Text(0, 0, 'pcttlnvrdlq'),\n",
       " Text(0, 0, 'totalrevhilim'),\n",
       " Text(0, 0, 'mosinoldilacct'),\n",
       " Text(0, 0, 'totalbalexmort'),\n",
       " Text(0, 0, 'addrstate_freq_encode'),\n",
       " Text(0, 0, 'totalilhighcreditlimit'),\n",
       " Text(0, 0, 'revolbal'),\n",
       " Text(0, 0, 'ilutil')]"
      ]
     },
     "execution_count": 339,
     "metadata": {},
     "output_type": "execute_result"
    },
    {
     "data": {
      "image/png": "[encoded data removed]",
      "text/plain": [
       "<Figure size 720x576 with 1 Axes>"
      ]
     },
     "metadata": {
      "needs_background": "light"
     },
     "output_type": "display_data"
    }
   ],
   "source": [
    "fig, ax = plt.subplots()\n",
    "df1_imp_plt.plot(ax=ax,xticks=df1_imp_plt.index,kind='bar',figsize=(10,8))\n",
    "ax.set_xticklabels(df1_imp_plt.feature)"
   ]
  },
  {
   "cell_type": "code",
   "execution_count": 340,
   "metadata": {},
   "outputs": [],
   "source": [
    "filename = 'gbm_mode2.sav'\n",
    "pickle.dump(gbm, open(filename, 'wb'))"
   ]
  },
  {
   "cell_type": "code",
   "execution_count": null,
   "metadata": {},
   "outputs": [],
   "source": []
  }
 ],
 "metadata": {
  "anaconda-cloud": {},
  "kernelspec": {
   "display_name": "Python 3",
   "language": "python",
   "name": "python3"
  },
  "language_info": {
   "codemirror_mode": {
    "name": "ipython",
    "version": 3
   },
   "file_extension": ".py",
   "mimetype": "text/x-python",
   "name": "python",
   "nbconvert_exporter": "python",
   "pygments_lexer": "ipython3",
   "version": "3.7.1"
  }
 },
 "nbformat": 4,
 "nbformat_minor": 1
}
